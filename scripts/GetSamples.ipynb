{
 "cells": [
  {
   "cell_type": "code",
   "execution_count": 1,
   "id": "a27f8fa1",
   "metadata": {},
   "outputs": [
    {
     "name": "stderr",
     "output_type": "stream",
     "text": [
      "/home/renan/Área de Trabalho/research-project/py37/lib/python3.7/site-packages/pandas/compat/__init__.py:124: UserWarning: Could not import the lzma module. Your installed Python is incomplete. Attempting to use lzma compression will result in a RuntimeError.\n",
      "  warnings.warn(msg)\n"
     ]
    }
   ],
   "source": [
    "import pandas as pd\n",
    "import numpy as np"
   ]
  },
  {
   "cell_type": "markdown",
   "id": "2a3ad83d",
   "metadata": {},
   "source": [
    "### Join pickle parts in dataframe"
   ]
  },
  {
   "cell_type": "code",
   "execution_count": 2,
   "id": "b30524b8",
   "metadata": {},
   "outputs": [],
   "source": [
    "df = pd.DataFrame()\n",
    "for i in range(0, 13):\n",
    "    part = pd.read_pickle(f'../data/part_{i}.pkl')\n",
    "    df = df.append(part, ignore_index=True)"
   ]
  },
  {
   "cell_type": "markdown",
   "id": "092d3cbb",
   "metadata": {},
   "source": [
    "#### Get 50 samples random FA"
   ]
  },
  {
   "cell_type": "code",
   "execution_count": 6,
   "id": "111787ab",
   "metadata": {},
   "outputs": [
    {
     "data": {
      "text/plain": [
       "'[[  12.32360346   11.05944774   12.68010915 ...  -54.95309708\\n   -51.23672805  -68.05280898]\\n [  48.73432321   40.09146921   32.50264536 ... -152.70998665\\n  -135.8704147  -127.31961418]\\n [  35.54186557   28.83042307   19.9283566  ...  -98.1021864\\n   -84.75836604  -59.24418885]\\n ...\\n [  17.54086624   23.42183126   27.5121561  ... -155.8445699\\n  -121.53346774 -103.65669255]\\n [  14.5476005    17.61244739   24.39066709 ... -127.37326776\\n  -116.52692868 -109.2852498 ]\\n [ 168.01760311  166.04661354  160.22620219 ...    6.56060149\\n     2.90965183    1.67243378]]'"
      ]
     },
     "execution_count": 6,
     "metadata": {},
     "output_type": "execute_result"
    }
   ],
   "source": [
    "df.iloc[0].data"
   ]
  },
  {
   "cell_type": "code",
   "execution_count": 8,
   "id": "bb157c38",
   "metadata": {},
   "outputs": [
    {
     "data": {
      "text/html": [
       "<div>\n",
       "<style scoped>\n",
       "    .dataframe tbody tr th:only-of-type {\n",
       "        vertical-align: middle;\n",
       "    }\n",
       "\n",
       "    .dataframe tbody tr th {\n",
       "        vertical-align: top;\n",
       "    }\n",
       "\n",
       "    .dataframe thead th {\n",
       "        text-align: right;\n",
       "    }\n",
       "</style>\n",
       "<table border=\"1\" class=\"dataframe\">\n",
       "  <thead>\n",
       "    <tr style=\"text-align: right;\">\n",
       "      <th></th>\n",
       "      <th>filename</th>\n",
       "      <th>inf</th>\n",
       "      <th>sup</th>\n",
       "      <th>data</th>\n",
       "      <th>db</th>\n",
       "      <th>diagnostic</th>\n",
       "    </tr>\n",
       "  </thead>\n",
       "  <tbody>\n",
       "    <tr>\n",
       "      <th>83968</th>\n",
       "      <td>JS39828.mat</td>\n",
       "      <td>1750</td>\n",
       "      <td>2000</td>\n",
       "      <td>[[237.9966395935174, 256.9782597095393, 269.55...</td>\n",
       "      <td>databases</td>\n",
       "      <td>SR</td>\n",
       "    </tr>\n",
       "    <tr>\n",
       "      <th>286469</th>\n",
       "      <td>HR16219.mat</td>\n",
       "      <td>0</td>\n",
       "      <td>250</td>\n",
       "      <td>[[9.250543903690236, 56.60116792796241, 106.01...</td>\n",
       "      <td>databases</td>\n",
       "      <td>SR</td>\n",
       "    </tr>\n",
       "    <tr>\n",
       "      <th>130593</th>\n",
       "      <td>A4526.mat</td>\n",
       "      <td>1500</td>\n",
       "      <td>1750</td>\n",
       "      <td>[[71.8184939168681, 70.96365972844673, 69.3090...</td>\n",
       "      <td>databases</td>\n",
       "      <td>SR</td>\n",
       "    </tr>\n",
       "    <tr>\n",
       "      <th>253696</th>\n",
       "      <td>HR12253.mat</td>\n",
       "      <td>1750</td>\n",
       "      <td>2000</td>\n",
       "      <td>[[144.0066574237678, 173.47299499835918, 209.7...</td>\n",
       "      <td>databases</td>\n",
       "      <td>SR</td>\n",
       "    </tr>\n",
       "    <tr>\n",
       "      <th>199738</th>\n",
       "      <td>HR05765.mat</td>\n",
       "      <td>2250</td>\n",
       "      <td>2500</td>\n",
       "      <td>[[-47.67170499457362, -19.86627349720458, -32....</td>\n",
       "      <td>databases</td>\n",
       "      <td>SR</td>\n",
       "    </tr>\n",
       "    <tr>\n",
       "      <th>...</th>\n",
       "      <td>...</td>\n",
       "      <td>...</td>\n",
       "      <td>...</td>\n",
       "      <td>...</td>\n",
       "      <td>...</td>\n",
       "      <td>...</td>\n",
       "    </tr>\n",
       "    <tr>\n",
       "      <th>308698</th>\n",
       "      <td>HR18939.mat</td>\n",
       "      <td>2250</td>\n",
       "      <td>2500</td>\n",
       "      <td>[[-40.16797066449827, -42.409213808409845, -44...</td>\n",
       "      <td>databases</td>\n",
       "      <td>SR</td>\n",
       "    </tr>\n",
       "    <tr>\n",
       "      <th>306371</th>\n",
       "      <td>HR18654.mat</td>\n",
       "      <td>500</td>\n",
       "      <td>750</td>\n",
       "      <td>[[-51.48686351908005, -70.19114117157837, -84....</td>\n",
       "      <td>databases</td>\n",
       "      <td>SR</td>\n",
       "    </tr>\n",
       "    <tr>\n",
       "      <th>158424</th>\n",
       "      <td>HR00915.mat</td>\n",
       "      <td>1250</td>\n",
       "      <td>1500</td>\n",
       "      <td>[[-36.7280623625614, -26.21199411477894, -24.8...</td>\n",
       "      <td>databases</td>\n",
       "      <td>SR</td>\n",
       "    </tr>\n",
       "    <tr>\n",
       "      <th>254229</th>\n",
       "      <td>HR12315.mat</td>\n",
       "      <td>0</td>\n",
       "      <td>250</td>\n",
       "      <td>[[12.960585205688535, -41.18561151880605, -64....</td>\n",
       "      <td>databases</td>\n",
       "      <td>SR</td>\n",
       "    </tr>\n",
       "    <tr>\n",
       "      <th>322422</th>\n",
       "      <td>HR20676.mat</td>\n",
       "      <td>750</td>\n",
       "      <td>1000</td>\n",
       "      <td>[[-39.23074893054348, -37.57909787667053, -43....</td>\n",
       "      <td>databases</td>\n",
       "      <td>SR</td>\n",
       "    </tr>\n",
       "  </tbody>\n",
       "</table>\n",
       "<p>59132 rows × 6 columns</p>\n",
       "</div>"
      ],
      "text/plain": [
       "           filename   inf   sup  \\\n",
       "83968   JS39828.mat  1750  2000   \n",
       "286469  HR16219.mat     0   250   \n",
       "130593    A4526.mat  1500  1750   \n",
       "253696  HR12253.mat  1750  2000   \n",
       "199738  HR05765.mat  2250  2500   \n",
       "...             ...   ...   ...   \n",
       "308698  HR18939.mat  2250  2500   \n",
       "306371  HR18654.mat   500   750   \n",
       "158424  HR00915.mat  1250  1500   \n",
       "254229  HR12315.mat     0   250   \n",
       "322422  HR20676.mat   750  1000   \n",
       "\n",
       "                                                     data         db  \\\n",
       "83968   [[237.9966395935174, 256.9782597095393, 269.55...  databases   \n",
       "286469  [[9.250543903690236, 56.60116792796241, 106.01...  databases   \n",
       "130593  [[71.8184939168681, 70.96365972844673, 69.3090...  databases   \n",
       "253696  [[144.0066574237678, 173.47299499835918, 209.7...  databases   \n",
       "199738  [[-47.67170499457362, -19.86627349720458, -32....  databases   \n",
       "...                                                   ...        ...   \n",
       "308698  [[-40.16797066449827, -42.409213808409845, -44...  databases   \n",
       "306371  [[-51.48686351908005, -70.19114117157837, -84....  databases   \n",
       "158424  [[-36.7280623625614, -26.21199411477894, -24.8...  databases   \n",
       "254229  [[12.960585205688535, -41.18561151880605, -64....  databases   \n",
       "322422  [[-39.23074893054348, -37.57909787667053, -43....  databases   \n",
       "\n",
       "       diagnostic  \n",
       "83968          SR  \n",
       "286469         SR  \n",
       "130593         SR  \n",
       "253696         SR  \n",
       "199738         SR  \n",
       "...           ...  \n",
       "308698         SR  \n",
       "306371         SR  \n",
       "158424         SR  \n",
       "254229         SR  \n",
       "322422         SR  \n",
       "\n",
       "[59132 rows x 6 columns]"
      ]
     },
     "execution_count": 8,
     "metadata": {},
     "output_type": "execute_result"
    }
   ],
   "source": [
    "df[df.diagnostic == 'SR']"
   ]
  }
 ],
 "metadata": {
  "kernelspec": {
   "display_name": "Python 3.7",
   "language": "python",
   "name": "py37"
  },
  "language_info": {
   "codemirror_mode": {
    "name": "ipython",
    "version": 3
   },
   "file_extension": ".py",
   "mimetype": "text/x-python",
   "name": "python",
   "nbconvert_exporter": "python",
   "pygments_lexer": "ipython3",
   "version": "3.7.4"
  }
 },
 "nbformat": 4,
 "nbformat_minor": 5
}
