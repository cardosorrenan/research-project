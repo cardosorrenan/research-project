{
 "cells": [
  {
   "cell_type": "code",
   "execution_count": null,
   "id": "3d8812bf",
   "metadata": {},
   "outputs": [],
   "source": [
    "!pip install scikit-learn==0.26"
   ]
  },
  {
   "cell_type": "code",
   "execution_count": null,
   "id": "37e19182",
   "metadata": {},
   "outputs": [],
   "source": [
    "import warnings\n",
    "\n",
    "warnings.filterwarnings('ignore')\n",
    "\n",
    "import numpy as np\n",
    "import pandas as pd\n",
    "import seaborn as sns\n",
    "import matplotlib.pyplot as plt\n",
    "\n",
    "from sklearn.neighbors import KNeighborsClassifier\n",
    "from sklearn.discriminant_analysis import LinearDiscriminantAnalysis\n",
    "from sklearn.svm import SVC\n",
    "from sklearn.feature_selection import SelectKBest,chi2\n",
    "from sklearn.ensemble import RandomForestClassifier\n",
    "from sklearn.neural_network import MLPClassifier\n",
    "from sklearn.preprocessing import StandardScaler, LabelEncoder\n",
    "from sklearn.model_selection import GridSearchCV, train_test_split, StratifiedKFold, cross_val_score, RepeatedStratifiedKFold\n",
    "from sklearn.metrics import accuracy_score\n",
    "from sklearn.pipeline import Pipeline\n",
    "from mlxtend.feature_selection import SequentialFeatureSelector as SFS\n",
    "from xgboost import XGBClassifier\n",
    "from pycaret.classification import *\n",
    "from autosklearn.classification import AutoSklearnClassifier"
   ]
  },
  {
   "cell_type": "markdown",
   "id": "92d5a302",
   "metadata": {},
   "source": [
    "### Feature Selection"
   ]
  },
  {
   "cell_type": "code",
   "execution_count": null,
   "id": "d29b2041",
   "metadata": {},
   "outputs": [],
   "source": [
    "base_df = pd.read_csv('../workdata/shura/experiment2/results.csv')\n",
    "base_df = base_df[base_df['rank'] == 5]\n",
    "# base_df = base_df[base_df['db'] == 'WFDB_ChapmanShaoxing']\n",
    "\n",
    "X_df = base_df[['iter', 'fval', 'relfval', 'relstep', 'delta', 'rho', 'relerr']]\n",
    "X = X_df.to_numpy()\n",
    "corrmat = X_df.corr()\n",
    "top_corr_features = corrmat.index\n",
    "plt.figure(figsize=(10,10))\n",
    "sns.heatmap(X_df[top_corr_features].corr(),annot=True,cmap=\"RdYlGn\")\n",
    "\n",
    "y_df = base_df[['diagnostic']]\n",
    "y = y_df['diagnostic'].to_numpy()\n",
    "le = LabelEncoder()\n",
    "le.fit(y)\n",
    "y = le.transform(y)\n",
    "y_df['diagnostic'] = y\n",
    "sns.pairplot(pd.concat([X_df, y_df], axis=1), hue=\"diagnostic\")\n",
    "\n",
    "sc = StandardScaler()\n",
    "X = sc.fit_transform(X)"
   ]
  },
  {
   "cell_type": "markdown",
   "id": "78c4e152",
   "metadata": {},
   "source": [
    "### GridSearch"
   ]
  },
  {
   "cell_type": "code",
   "execution_count": null,
   "id": "776b09e1",
   "metadata": {},
   "outputs": [],
   "source": [
    "########################\n",
    "##        MLP         ##\n",
    "########################\n",
    "'''\n",
    "parameter_space_mlp = {'hidden_layer_sizes': [(300, 40, 10), (300, 30), (300,)],\n",
    "                       'activation': ['logistic', 'tanh', 'relu'],\n",
    "                       'solver': ['sgd', 'adam'],\n",
    "                       'alpha': [0.0001, 0.001, 0.005],\n",
    "                       'learning_rate_init': [0.0001, 0.001, 0.01],\n",
    "                       'max_iter': [200, 300, 400, 1000],\n",
    "                       'early_stopping': [True, False],\n",
    "                       'learning_rate': ['constant','adaptive']}\n",
    "grid_mlp = GridSearchCV(MLPClassifier(), parameter_space_mlp, n_jobs=-1, cv=5)\n",
    "grid_mlp.fit(X, y)\n",
    "print('Best parameters found:\\n', grid_mlp.best_params_, grid_mlp.best_score_)\n",
    "'''\n",
    "\n",
    "\n",
    "########################\n",
    "##    Random Forest   ##\n",
    "########################\n",
    "\n",
    "parameter_space_rf = {'bootstrap': [True],\n",
    "                      'max_depth': [80, 90, 100, 110],\n",
    "                      'max_features': [2, 3],\n",
    "                      'min_samples_leaf': [3, 4, 5],\n",
    "                      'min_samples_split': [8, 10, 12],\n",
    "                      'n_estimators': [100, 200, 300, 1000]}\n",
    "grid_rf = GridSearchCV(RandomForestClassifier(), parameter_space_rf, n_jobs=-1, cv=5)\n",
    "grid_rf.fit(X, y)\n",
    "print('Best parameters found:\\n', grid_rf.best_params_, grid_rf.best_score_)\n",
    "\n",
    "\n",
    "\n",
    "########################\n",
    "##         LDA        ##\n",
    "########################\n",
    "\n",
    "parameter_space_lda = {'solver': ['svd', 'lsqr', 'eigen'],\n",
    "                       'store_covariance': [True, False],\n",
    "                       'tol': [1e-05, 1e-04, 1e-03, 1e-02, 1e-01],\n",
    "                       'shrinkage': ['auto', 0.01, 0.1, 1, None]}\n",
    "grid_lda = GridSearchCV(LinearDiscriminantAnalysis(), parameter_space_lda, n_jobs=-1, cv=5)\n",
    "grid_lda.fit(X, y)\n",
    "print('Best parameters found:\\n', grid_lda.best_params_, grid_lda.best_score_)\n",
    "\n",
    "\n",
    "\n",
    "########################\n",
    "##         SVM        ##\n",
    "########################\n",
    "'''\n",
    "parameter_space_svm = {'C': [1, 10, 100, 1000],\n",
    "                       'gamma': [0.01, 0.1, 0, 1], \n",
    "                       'kernel': ['linear', 'rbf', 'poly', 'sigmoid'], \n",
    "                       'degree': [1, 2, 3],\n",
    "                       'coef0': [0.001, 0, 1, 2]}\n",
    "\n",
    "grid_svm = GridSearchCV(SVC(), parameter_space_svm, n_jobs=-1, cv=5)\n",
    "grid_svm.fit(X, y)\n",
    "print('Best parameters found:\\n', grid_svm.best_params_, grid_svm.best_score_)\n",
    "'''\n",
    "\n",
    "\n",
    "########################\n",
    "##       XGBOOST      ##\n",
    "########################\n",
    "\n",
    "parameter_space_xgb = {'n_estimators': [5, 10, 15],\n",
    "                       'max_depth': [1, 2, 3],\n",
    "                       'max_leaves': [0, 1, 2],\n",
    "                       'grow_policy': ['depthwise', 'lossguide'],\n",
    "                       'booster': ['gbtree', 'gblinear', 'dart'],\n",
    "                       'gamma': [0.0001, 0.001, 0.01, 1],\n",
    "                       'min_child_weight': [0.001, 0.01, 0.2],\n",
    "                       'max_delta_step': [0.001, 0.01, 0.2],\n",
    "                       'reg_alpha': [0.001, 0.01, 0.2],\n",
    "                       'reg_lambda': [0.001, 0.02, 0.2],\n",
    "                      }\n",
    "grid_xgb = GridSearchCV(XGBClassifier(), parameter_space_xgb, n_jobs=-1, cv=5, verbose=0)\n",
    "grid_xgb.fit(X, y, verbose=0)\n",
    "print('Best parameters found:\\n', grid_xgb.best_params_, grid_xgb.best_score_)\n"
   ]
  },
  {
   "cell_type": "code",
   "execution_count": null,
   "id": "677f96e9",
   "metadata": {},
   "outputs": [],
   "source": [
    "RandomForestClassifier(**grid_rf.best_params_)"
   ]
  },
  {
   "cell_type": "markdown",
   "id": "d1a22be1",
   "metadata": {},
   "source": [
    "# Classifier"
   ]
  },
  {
   "cell_type": "code",
   "execution_count": null,
   "id": "0ad99580",
   "metadata": {},
   "outputs": [],
   "source": [
    "## RANK 6"
   ]
  },
  {
   "cell_type": "code",
   "execution_count": null,
   "id": "92ffc1f0",
   "metadata": {},
   "outputs": [],
   "source": [
    "intervalo RR\n",
    "SNR"
   ]
  },
  {
   "cell_type": "code",
   "execution_count": null,
   "id": "3eeb814a",
   "metadata": {},
   "outputs": [],
   "source": [
    "classifiers = {}\n",
    "\n",
    "'''\n",
    "classifiers['nn'] = MLPClassifier(activation='tanh',\n",
    "                                   alpha=0.005,\n",
    "                                   early_stopping=False,\n",
    "                                   hidden_layer_sizes=(300,30),\n",
    "                                   learning_rate='adaptive',\n",
    "                                   learning_rate_init=0.001,\n",
    "                                   max_iter=1000,\n",
    "                                   solver='adam')\n",
    "'''\n",
    "\n",
    "classifiers['rf'] = RandomForestClassifier(**grid_rf.best_params_)\n",
    "\n",
    "classifiers['lda'] = LinearDiscriminantAnalysis(**grid_lda.best_params_)\n",
    "'''\n",
    "classifiers['svm'] = SVC(C=1000, \n",
    "                         gamma=0.01, \n",
    "                         degree=2, \n",
    "                         coef0=2, \n",
    "                         kernel='poly')\n",
    "'''\n",
    "\n",
    "classifiers['xgb'] = XGBClassifier(**grid_xgb.best_params_)\n",
    "\n",
    "classifiers['sffs'] = SFS(KNeighborsClassifier(n_neighbors=3), \n",
    "                          k_features=3,\n",
    "                          forward=True, \n",
    "                          floating=True, \n",
    "                          scoring='accuracy',\n",
    "                          cv=10,\n",
    "                          n_jobs=-1)\n",
    "classifiers['sffs'] = Pipeline([('feat', classifiers['sffs']), ('clf', classifiers['xgb'])])\n",
    "\n",
    "classifiers['sbfs'] = SFS(classifiers['rf'],\n",
    "                          k_features=5,\n",
    "                          forward=False, \n",
    "                          floating=True, \n",
    "                          scoring='accuracy',\n",
    "                          cv=10,\n",
    "                          n_jobs=-1)\n",
    "classifiers['sbfs'] = Pipeline([('feat', classifiers['sbfs']), ('clf', classifiers['xgb'])])\n",
    "\n",
    "kfold = StratifiedKFold(n_splits=10)\n",
    "for alg, clf in classifiers.items():\n",
    "    cv_results = cross_val_score(clf, X, y, cv=kfold, scoring='accuracy')\n",
    "    print(f\"{alg} {cv_results.mean()}\")\n",
    "    plt.boxplot(cv_results)\n",
    "    plt.show()"
   ]
  },
  {
   "cell_type": "code",
   "execution_count": null,
   "id": "2ad69bd8",
   "metadata": {},
   "outputs": [],
   "source": [
    "X_train, X_test, y_train, y_test = train_test_split(X, y, test_size=0.20)\n",
    "timings = [120, 480, 960, 3600]\n",
    "\n",
    "for t in timings:\n",
    "    automl = AutoSklearnClassifier(\n",
    "        time_left_for_this_task=t,\n",
    "        tmp_folder=f'/home/renan/Área de Trabalho/research-project/tmp/autosklearn_classification_example_{t}',\n",
    "        n_jobs=6,\n",
    "        resampling_strategy='cv',\n",
    "        resampling_strategy_arguments={'folds': 5},\n",
    "    )\n",
    "    automl.fit(X_train, y_train)\n",
    "    print(automl.leaderboard())\n",
    "    predictions = automl.predict(X_test)\n",
    "    print(\"Accuracy score:\", accuracy_score(y_test, predictions))"
   ]
  },
  {
   "cell_type": "code",
   "execution_count": null,
   "id": "975912e0",
   "metadata": {},
   "outputs": [],
   "source": [
    "data = pd.concat([X_df, y_df], axis=1)\n",
    "data.shape"
   ]
  },
  {
   "cell_type": "code",
   "execution_count": null,
   "id": "eedb55c9",
   "metadata": {},
   "outputs": [],
   "source": [
    "experiment = setup(data,\n",
    "                   target='diagnostic',\n",
    "                   data_split_stratify=True)"
   ]
  },
  {
   "cell_type": "code",
   "execution_count": null,
   "id": "36a0978d",
   "metadata": {},
   "outputs": [],
   "source": [
    "best_model = compare_models()"
   ]
  },
  {
   "cell_type": "code",
   "execution_count": null,
   "id": "b60895c7",
   "metadata": {
    "scrolled": false
   },
   "outputs": [],
   "source": [
    "predict_model(best_model)"
   ]
  },
  {
   "cell_type": "code",
   "execution_count": null,
   "id": "5f183fc3",
   "metadata": {
    "scrolled": true
   },
   "outputs": [],
   "source": [
    "rf = create_model('rf')"
   ]
  },
  {
   "cell_type": "code",
   "execution_count": null,
   "id": "424c976a",
   "metadata": {},
   "outputs": [],
   "source": [
    "plot_model(rf, plot='calibration')"
   ]
  },
  {
   "cell_type": "code",
   "execution_count": null,
   "id": "4b284c5e",
   "metadata": {},
   "outputs": [],
   "source": [
    "plot_model(rf, plot='feature')"
   ]
  },
  {
   "cell_type": "code",
   "execution_count": null,
   "id": "367d495c",
   "metadata": {},
   "outputs": [],
   "source": [
    "tuned_rf = tune_model(rf)"
   ]
  },
  {
   "cell_type": "code",
   "execution_count": null,
   "id": "528ae103",
   "metadata": {},
   "outputs": [],
   "source": [
    "plot_model(tuned_rf, plot='parameter')"
   ]
  },
  {
   "cell_type": "code",
   "execution_count": null,
   "id": "a0c665a6",
   "metadata": {},
   "outputs": [],
   "source": [
    "bagged_rf = ensemble_model(rf, n_estimators=10)"
   ]
  },
  {
   "cell_type": "code",
   "execution_count": null,
   "id": "51ddd973",
   "metadata": {},
   "outputs": [],
   "source": [
    "print(bagged_gbc)"
   ]
  },
  {
   "cell_type": "code",
   "execution_count": null,
   "id": "23a05376",
   "metadata": {},
   "outputs": [],
   "source": [
    "top3 = compare_models(n_select=3)\n",
    "blender_top3 = blend_models(top3)"
   ]
  },
  {
   "cell_type": "code",
   "execution_count": null,
   "id": "50b1bf9b",
   "metadata": {},
   "outputs": [],
   "source": [
    "print(top3)"
   ]
  }
 ],
 "metadata": {
  "kernelspec": {
   "display_name": "Python 3.7",
   "language": "python",
   "name": "py37"
  },
  "language_info": {
   "codemirror_mode": {
    "name": "ipython",
    "version": 3
   },
   "file_extension": ".py",
   "mimetype": "text/x-python",
   "name": "python",
   "nbconvert_exporter": "python",
   "pygments_lexer": "ipython3",
   "version": "3.7.4"
  }
 },
 "nbformat": 4,
 "nbformat_minor": 5
}
