{
 "cells": [
  {
   "cell_type": "code",
   "execution_count": 1,
   "id": "9ca835ff",
   "metadata": {},
   "outputs": [
    {
     "name": "stderr",
     "output_type": "stream",
     "text": [
      "/home/renan/Área de Trabalho/research-project/py37/lib/python3.7/site-packages/pandas/compat/__init__.py:124: UserWarning: Could not import the lzma module. Your installed Python is incomplete. Attempting to use lzma compression will result in a RuntimeError.\n",
      "  warnings.warn(msg)\n"
     ]
    }
   ],
   "source": [
    "import os\n",
    "\n",
    "os.environ[\"LD_LIBRARY_PATH\"] = \"/home/renan/MATLAB/R2021b/runtime/glnxa64/\";\n",
    "\n",
    "from myPackages import myDehankelization\n",
    "from myPackages import myDehankelization, myHankelization\n",
    "import numpy as np\n",
    "import seaborn as sns\n",
    "import matplotlib.pyplot as plt\n",
    "import matlab\n",
    "import pandas as pd\n",
    "import ecg_plot\n",
    "from os.path import exists\n",
    "plt.rcParams['axes.facecolor'] = 'white'\n",
    "plt.rcParams['savefig.facecolor'] = 'white'\n",
    "import csv\n",
    "\n",
    "import warnings\n",
    "warnings.filterwarnings('ignore')"
   ]
  },
  {
   "cell_type": "code",
   "execution_count": 2,
   "id": "3f0f5303",
   "metadata": {},
   "outputs": [],
   "source": [
    "experiment = '9. 07-06'\n",
    "rank = '5'"
   ]
  },
  {
   "cell_type": "code",
   "execution_count": 3,
   "id": "e03bdb7f",
   "metadata": {},
   "outputs": [],
   "source": [
    "%matplotlib agg\n",
    "aldebaran_df = pd.read_pickle(f'../workdata/aldebaran/aldebaran.pkl')\n",
    "recordings = os.listdir(f'../workdata/saga/{experiment}/rank_{rank}')\n",
    "\n",
    "if not os.path.exists(f'../workdata/aioria/{experiment}/'):\n",
    "    os.makedirs(f'../workdata/aioria/{experiment}/') \n",
    "    \n",
    "for rec_path in recordings:\n",
    "    row = {}\n",
    "    rec_id = int(rec_path.split('.')[0])\n",
    "    row['id'] = rec_id\n",
    "    \n",
    "    # Create \n",
    "    if not os.path.exists(f'../workdata/aioria/{experiment}/{rec_id}/'):\n",
    "        os.makedirs(f'../workdata/aioria/{experiment}/{rec_id}/') \n",
    "    \n",
    "    # Save ecg 12 lead image\n",
    "    ecg = aldebaran_df.loc[[rec_id]]['data'].values[0]\n",
    "    ecg_plot.plot(ecg/1000, sample_rate=100)\n",
    "    ecg_plot.save_as_png('ecg', f'../workdata/aioria/{experiment}/{rec_id}/')\n",
    "    \n",
    "    row['diag'] = aldebaran_df.loc[[rec_id]]['diagnostic'].values[0]\n",
    "\n",
    "    # Open output from decomposition BTD\n",
    "    with open(f'../workdata/saga/{experiment}/rank_5/{rec_path}', 'rb') as f:\n",
    "        output_btd = np.load(f, allow_pickle=True)\n",
    "\n",
    "    n_sources = len(output_btd)\n",
    "    \n",
    "    total_fdom = 0\n",
    "    for i in range(0, n_sources):\n",
    "        fig, axs = plt.subplots(ncols=2)\n",
    "        a = np.array(output_btd[i][0])\n",
    "        b = np.array(output_btd[i][1]).T\n",
    "        mixing_matrix = np.dot(a, b)\n",
    "        my_dehankelization = myDehankelization.initialize()\n",
    "        m_hankel = matlab.double(mixing_matrix.tolist(), size=mixing_matrix.shape)\n",
    "        source = my_dehankelization.dehankelization(m_hankel)\n",
    "        my_dehankelization.terminate()\n",
    "        x = np.linspace(0, 1, 100, endpoint=False)\n",
    "        source = np.array(source).T[0]\n",
    "        \n",
    "        sns.lineplot(x, source/1000, ax=axs[0])\n",
    "        axs[0].set(ylim=(-0.1, 0.1))\n",
    "        \n",
    "        fourier = np.fft.fft(source)\n",
    "        frequencies = np.fft.fftfreq(fourier.size, d=x[1]-x[0])\n",
    "        \n",
    "        p_fourier = abs(fourier[np.where(frequencies >= 0)])\n",
    "        p_frequencies = frequencies[np.where(frequencies >= 0)] \n",
    "        \n",
    "        f_dominant = p_frequencies[np.argmax(np.abs(p_fourier))]\n",
    "        \n",
    "        if f_dominant >= 3 and f_dominant <=9:\n",
    "            total_fdom = total_fdom + 1\n",
    "            \n",
    "        sns.lineplot(p_frequencies, np.abs(p_fourier), ax=axs[1]).set(title=f'f_dom: {f_dominant}')\n",
    "        axs[1].set(ylim=(0, 1000))\n",
    "        fig.savefig(f'../workdata/aioria/{experiment}/{rec_id}/source_{i}.png')\n",
    "        \n",
    "        row[f'fdom_src{i}'] = f_dominant\n",
    "        \n",
    "    row['total'] = total_fdom\n",
    "    \n",
    "    file_exists = exists(f'../workdata/aioria/{experiment}/results.csv')\n",
    "    \n",
    "    with open(f'../workdata/aioria/{experiment}/results.csv', 'a') as f:\n",
    "        headers = row.keys()\n",
    "        writer = csv.DictWriter(f, delimiter=',', lineterminator='\\n', fieldnames=headers)\n",
    "        if not file_exists:\n",
    "            writer.writeheader()\n",
    "        writer.writerow(row)"
   ]
  }
 ],
 "metadata": {
  "kernelspec": {
   "display_name": "Python 3.7",
   "language": "python",
   "name": "py37"
  },
  "language_info": {
   "codemirror_mode": {
    "name": "ipython",
    "version": 3
   },
   "file_extension": ".py",
   "mimetype": "text/x-python",
   "name": "python",
   "nbconvert_exporter": "python",
   "pygments_lexer": "ipython3",
   "version": "3.7.4"
  }
 },
 "nbformat": 4,
 "nbformat_minor": 5
}
