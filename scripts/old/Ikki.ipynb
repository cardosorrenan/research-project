{
 "cells": [
  {
   "cell_type": "code",
   "execution_count": 1,
   "id": "8c8381ce",
   "metadata": {},
   "outputs": [],
   "source": [
    "import numpy as np\n",
    "import pandas as pd\n",
    "import matplotlib.pyplot as plt\n",
    "import seaborn as sns\n",
    "\n",
    "from sklearn.model_selection import train_test_split\n",
    "from sklearn.preprocessing import LabelEncoder\n",
    "from sklearn.metrics import confusion_matrix, f1_score, accuracy_score\n",
    "from tensorflow import keras\n",
    "from tensorflow.keras.activations import relu\n",
    "from tensorflow.keras.models import load_model, Sequential\n",
    "from tensorflow.keras.layers import Dense, Dropout, Conv2D, Conv3D, MaxPooling2D, Flatten, BatchNormalization, Activation\n",
    "from tensorflow.keras.regularizers import l2, l1_l2\n",
    "from tensorflow.keras.utils import to_categorical\n",
    "import uuid\n",
    "import base64"
   ]
  },
  {
   "cell_type": "code",
   "execution_count": 2,
   "id": "fd3c9121",
   "metadata": {},
   "outputs": [],
   "source": [
    "def prepare_data_tosplit(df, n_samples):\n",
    "    df = df.sample(frac=1)\n",
    "    df = df.iloc[0:n_samples]\n",
    "    label_encoder = LabelEncoder()\n",
    "    df['diagnostic'] = label_encoder.fit_transform(df['diagnostic'].tolist())\n",
    "    y = to_categorical(df['diagnostic'].tolist(), num_classes=2)\n",
    "    X = np.zeros((n_samples, 12, 250))\n",
    "    for i in range(0, n_samples):\n",
    "        X[i, :, :] = df.iloc[i]['data']\n",
    "    return df, X, y\n",
    "\n",
    "key = uuid.uuid4().hex[0:6]\n",
    "df = pd.read_pickle('2022-02-02_02_05_35.pkl')\n",
    "n_samples = 30000\n",
    "df_new, X, y = prepare_data_tosplit(df, n_samples)\n",
    "\n",
    "X_train, X_test, y_train, y_test = train_test_split(X, y, test_size=0.33, random_state=42)\n",
    "X_train = X_train.reshape([*X_train.shape[0:3], 1])\n",
    "X_test = X_test.reshape([*X_test.shape[0:3], 1])"
   ]
  },
  {
   "cell_type": "code",
   "execution_count": 12,
   "id": "7e097b67",
   "metadata": {},
   "outputs": [
    {
     "data": {
      "text/plain": [
       "filename                                            JS09378.mat\n",
       "inf                                                        2250\n",
       "sup                                                        2500\n",
       "data          [[-128.0879443366401, -104.21847447001475, -88...\n",
       "db                                         WFDB_ChapmanShaoxing\n",
       "diagnostic                                                   AF\n",
       "Name: 44411, dtype: object"
      ]
     },
     "execution_count": 12,
     "metadata": {},
     "output_type": "execute_result"
    }
   ],
   "source": [
    "df.iloc[0]"
   ]
  },
  {
   "cell_type": "code",
   "execution_count": 34,
   "id": "3285b2db",
   "metadata": {},
   "outputs": [
    {
     "data": {
      "text/plain": [
       "array([0, 0, 0, 0, 0])"
      ]
     },
     "execution_count": 34,
     "metadata": {},
     "output_type": "execute_result"
    }
   ],
   "source": [
    "label_encoder = LabelEncoder()\n",
    "label_encoder.fit_transform(df[-12005:-12000]['diagnostic'].tolist())"
   ]
  },
  {
   "cell_type": "code",
   "execution_count": 33,
   "id": "c890ae17",
   "metadata": {},
   "outputs": [
    {
     "data": {
      "text/html": [
       "<div>\n",
       "<style scoped>\n",
       "    .dataframe tbody tr th:only-of-type {\n",
       "        vertical-align: middle;\n",
       "    }\n",
       "\n",
       "    .dataframe tbody tr th {\n",
       "        vertical-align: top;\n",
       "    }\n",
       "\n",
       "    .dataframe thead th {\n",
       "        text-align: right;\n",
       "    }\n",
       "</style>\n",
       "<table border=\"1\" class=\"dataframe\">\n",
       "  <thead>\n",
       "    <tr style=\"text-align: right;\">\n",
       "      <th></th>\n",
       "      <th>filename</th>\n",
       "      <th>inf</th>\n",
       "      <th>sup</th>\n",
       "      <th>data</th>\n",
       "      <th>db</th>\n",
       "      <th>diagnostic</th>\n",
       "    </tr>\n",
       "  </thead>\n",
       "  <tbody>\n",
       "    <tr>\n",
       "      <th>93807</th>\n",
       "      <td>HR02315.mat</td>\n",
       "      <td>1250</td>\n",
       "      <td>1500</td>\n",
       "      <td>[[40.8082854343957, 43.362680919792496, 47.216...</td>\n",
       "      <td>WFDB_PTBXL</td>\n",
       "      <td>SR</td>\n",
       "    </tr>\n",
       "    <tr>\n",
       "      <th>275589</th>\n",
       "      <td>E08755.mat</td>\n",
       "      <td>500</td>\n",
       "      <td>750</td>\n",
       "      <td>[[-15.279765623817651, -8.146100864852983, -0....</td>\n",
       "      <td>WFDB_Ga</td>\n",
       "      <td>SR</td>\n",
       "    </tr>\n",
       "    <tr>\n",
       "      <th>330980</th>\n",
       "      <td>JS40257.mat</td>\n",
       "      <td>1750</td>\n",
       "      <td>2000</td>\n",
       "      <td>[[-25.898049045259818, -37.91943631880605, -37...</td>\n",
       "      <td>WFDB_Ningbo</td>\n",
       "      <td>SR</td>\n",
       "    </tr>\n",
       "    <tr>\n",
       "      <th>301874</th>\n",
       "      <td>JS37347.mat</td>\n",
       "      <td>250</td>\n",
       "      <td>500</td>\n",
       "      <td>[[112.88651052894889, 111.9215895021742, 111.7...</td>\n",
       "      <td>WFDB_Ningbo</td>\n",
       "      <td>SR</td>\n",
       "    </tr>\n",
       "    <tr>\n",
       "      <th>205553</th>\n",
       "      <td>HR15716.mat</td>\n",
       "      <td>250</td>\n",
       "      <td>500</td>\n",
       "      <td>[[-72.34452059889557, -82.47658233565119, -88....</td>\n",
       "      <td>WFDB_PTBXL</td>\n",
       "      <td>SR</td>\n",
       "    </tr>\n",
       "  </tbody>\n",
       "</table>\n",
       "</div>"
      ],
      "text/plain": [
       "           filename   inf   sup  \\\n",
       "93807   HR02315.mat  1250  1500   \n",
       "275589   E08755.mat   500   750   \n",
       "330980  JS40257.mat  1750  2000   \n",
       "301874  JS37347.mat   250   500   \n",
       "205553  HR15716.mat   250   500   \n",
       "\n",
       "                                                     data           db  \\\n",
       "93807   [[40.8082854343957, 43.362680919792496, 47.216...   WFDB_PTBXL   \n",
       "275589  [[-15.279765623817651, -8.146100864852983, -0....      WFDB_Ga   \n",
       "330980  [[-25.898049045259818, -37.91943631880605, -37...  WFDB_Ningbo   \n",
       "301874  [[112.88651052894889, 111.9215895021742, 111.7...  WFDB_Ningbo   \n",
       "205553  [[-72.34452059889557, -82.47658233565119, -88....   WFDB_PTBXL   \n",
       "\n",
       "       diagnostic  \n",
       "93807          SR  \n",
       "275589         SR  \n",
       "330980         SR  \n",
       "301874         SR  \n",
       "205553         SR  "
      ]
     },
     "execution_count": 33,
     "metadata": {},
     "output_type": "execute_result"
    }
   ],
   "source": [
    "df[-12005:-12000]"
   ]
  },
  {
   "cell_type": "code",
   "execution_count": 3,
   "id": "22493aba",
   "metadata": {},
   "outputs": [
    {
     "name": "stdout",
     "output_type": "stream",
     "text": [
      "(14942, 6)\n",
      "(15058, 6)\n"
     ]
    },
    {
     "data": {
      "text/plain": [
       "diagnostic  db                  \n",
       "0           WFDB_CPSC2018           5097\n",
       "            WFDB_CPSC2018_2          641\n",
       "            WFDB_ChapmanShaoxing    3532\n",
       "            WFDB_Ga                 1640\n",
       "            WFDB_PTBXL              4148\n",
       "1           WFDB_CPSC2018            724\n",
       "            WFDB_CPSC2018_2            2\n",
       "            WFDB_ChapmanShaoxing     683\n",
       "            WFDB_Ga                  936\n",
       "            WFDB_Ningbo             3287\n",
       "            WFDB_PTBXL              9310\n",
       "dtype: int64"
      ]
     },
     "execution_count": 3,
     "metadata": {},
     "output_type": "execute_result"
    }
   ],
   "source": [
    "print(df_new[df_new.diagnostic == 1].shape)\n",
    "print(df_new[df_new.diagnostic == 0].shape)\n",
    "df_new.groupby(['diagnostic', 'db']).size()"
   ]
  },
  {
   "cell_type": "code",
   "execution_count": 7,
   "id": "694bfa8e",
   "metadata": {},
   "outputs": [
    {
     "data": {
      "text/html": [
       "<div>\n",
       "<style scoped>\n",
       "    .dataframe tbody tr th:only-of-type {\n",
       "        vertical-align: middle;\n",
       "    }\n",
       "\n",
       "    .dataframe tbody tr th {\n",
       "        vertical-align: top;\n",
       "    }\n",
       "\n",
       "    .dataframe thead th {\n",
       "        text-align: right;\n",
       "    }\n",
       "</style>\n",
       "<table border=\"1\" class=\"dataframe\">\n",
       "  <thead>\n",
       "    <tr style=\"text-align: right;\">\n",
       "      <th></th>\n",
       "      <th>filename</th>\n",
       "      <th>inf</th>\n",
       "      <th>sup</th>\n",
       "      <th>data</th>\n",
       "      <th>db</th>\n",
       "      <th>diagnostic</th>\n",
       "    </tr>\n",
       "  </thead>\n",
       "  <tbody>\n",
       "    <tr>\n",
       "      <th>44411</th>\n",
       "      <td>JS09378.mat</td>\n",
       "      <td>2250</td>\n",
       "      <td>2500</td>\n",
       "      <td>[[-128.0879443366401, -104.21847447001475, -88...</td>\n",
       "      <td>WFDB_ChapmanShaoxing</td>\n",
       "      <td>AF</td>\n",
       "    </tr>\n",
       "    <tr>\n",
       "      <th>70423</th>\n",
       "      <td>HR17763.mat</td>\n",
       "      <td>250</td>\n",
       "      <td>500</td>\n",
       "      <td>[[-107.89988426190651, -103.50782912232864, -9...</td>\n",
       "      <td>WFDB_PTBXL</td>\n",
       "      <td>AF</td>\n",
       "    </tr>\n",
       "    <tr>\n",
       "      <th>9018</th>\n",
       "      <td>A3330.mat</td>\n",
       "      <td>500</td>\n",
       "      <td>750</td>\n",
       "      <td>[[80.2774680970738, 96.89598938208577, 130.342...</td>\n",
       "      <td>WFDB_CPSC2018</td>\n",
       "      <td>AF</td>\n",
       "    </tr>\n",
       "    <tr>\n",
       "      <th>40505</th>\n",
       "      <td>JS06384.mat</td>\n",
       "      <td>750</td>\n",
       "      <td>1000</td>\n",
       "      <td>[[15.932645392231233, 9.929720055698139, 7.753...</td>\n",
       "      <td>WFDB_ChapmanShaoxing</td>\n",
       "      <td>AF</td>\n",
       "    </tr>\n",
       "    <tr>\n",
       "      <th>70000</th>\n",
       "      <td>HR17218.mat</td>\n",
       "      <td>2000</td>\n",
       "      <td>2250</td>\n",
       "      <td>[[-14.919627355289675, -11.344026050587406, -1...</td>\n",
       "      <td>WFDB_PTBXL</td>\n",
       "      <td>AF</td>\n",
       "    </tr>\n",
       "    <tr>\n",
       "      <th>...</th>\n",
       "      <td>...</td>\n",
       "      <td>...</td>\n",
       "      <td>...</td>\n",
       "      <td>...</td>\n",
       "      <td>...</td>\n",
       "      <td>...</td>\n",
       "    </tr>\n",
       "    <tr>\n",
       "      <th>131090</th>\n",
       "      <td>HR06708.mat</td>\n",
       "      <td>2000</td>\n",
       "      <td>2250</td>\n",
       "      <td>[[0.11071115119102179, 16.821644843473088, 26....</td>\n",
       "      <td>WFDB_PTBXL</td>\n",
       "      <td>SR</td>\n",
       "    </tr>\n",
       "    <tr>\n",
       "      <th>107662</th>\n",
       "      <td>HR03921.mat</td>\n",
       "      <td>0</td>\n",
       "      <td>250</td>\n",
       "      <td>[[-8.788790370574128, -88.98056763364761, -162...</td>\n",
       "      <td>WFDB_PTBXL</td>\n",
       "      <td>SR</td>\n",
       "    </tr>\n",
       "    <tr>\n",
       "      <th>146251</th>\n",
       "      <td>HR08548.mat</td>\n",
       "      <td>2250</td>\n",
       "      <td>2500</td>\n",
       "      <td>[[-44.052050494166345, -45.13386392416353, -43...</td>\n",
       "      <td>WFDB_PTBXL</td>\n",
       "      <td>SR</td>\n",
       "    </tr>\n",
       "    <tr>\n",
       "      <th>327193</th>\n",
       "      <td>JS39879.mat</td>\n",
       "      <td>0</td>\n",
       "      <td>250</td>\n",
       "      <td>[[-78.57974147865943, -6.454119299492508, -55....</td>\n",
       "      <td>WFDB_Ningbo</td>\n",
       "      <td>SR</td>\n",
       "    </tr>\n",
       "    <tr>\n",
       "      <th>76471</th>\n",
       "      <td>HR00292.mat</td>\n",
       "      <td>2250</td>\n",
       "      <td>2500</td>\n",
       "      <td>[[-26.363753809658586, -27.618977576512858, -2...</td>\n",
       "      <td>WFDB_PTBXL</td>\n",
       "      <td>SR</td>\n",
       "    </tr>\n",
       "  </tbody>\n",
       "</table>\n",
       "<p>108382 rows × 6 columns</p>\n",
       "</div>"
      ],
      "text/plain": [
       "           filename   inf   sup  \\\n",
       "44411   JS09378.mat  2250  2500   \n",
       "70423   HR17763.mat   250   500   \n",
       "9018      A3330.mat   500   750   \n",
       "40505   JS06384.mat   750  1000   \n",
       "70000   HR17218.mat  2000  2250   \n",
       "...             ...   ...   ...   \n",
       "131090  HR06708.mat  2000  2250   \n",
       "107662  HR03921.mat     0   250   \n",
       "146251  HR08548.mat  2250  2500   \n",
       "327193  JS39879.mat     0   250   \n",
       "76471   HR00292.mat  2250  2500   \n",
       "\n",
       "                                                     data  \\\n",
       "44411   [[-128.0879443366401, -104.21847447001475, -88...   \n",
       "70423   [[-107.89988426190651, -103.50782912232864, -9...   \n",
       "9018    [[80.2774680970738, 96.89598938208577, 130.342...   \n",
       "40505   [[15.932645392231233, 9.929720055698139, 7.753...   \n",
       "70000   [[-14.919627355289675, -11.344026050587406, -1...   \n",
       "...                                                   ...   \n",
       "131090  [[0.11071115119102179, 16.821644843473088, 26....   \n",
       "107662  [[-8.788790370574128, -88.98056763364761, -162...   \n",
       "146251  [[-44.052050494166345, -45.13386392416353, -43...   \n",
       "327193  [[-78.57974147865943, -6.454119299492508, -55....   \n",
       "76471   [[-26.363753809658586, -27.618977576512858, -2...   \n",
       "\n",
       "                          db diagnostic  \n",
       "44411   WFDB_ChapmanShaoxing         AF  \n",
       "70423             WFDB_PTBXL         AF  \n",
       "9018           WFDB_CPSC2018         AF  \n",
       "40505   WFDB_ChapmanShaoxing         AF  \n",
       "70000             WFDB_PTBXL         AF  \n",
       "...                      ...        ...  \n",
       "131090            WFDB_PTBXL         SR  \n",
       "107662            WFDB_PTBXL         SR  \n",
       "146251            WFDB_PTBXL         SR  \n",
       "327193           WFDB_Ningbo         SR  \n",
       "76471             WFDB_PTBXL         SR  \n",
       "\n",
       "[108382 rows x 6 columns]"
      ]
     },
     "execution_count": 7,
     "metadata": {},
     "output_type": "execute_result"
    }
   ],
   "source": [
    "indexes = np.array(df_new.index)\n",
    "\n",
    "with open(f'classification_data/{key}_indexes.npy', 'wb') as f:\n",
    "    np.save(f, indexes)\n",
    "    \n",
    "# with open('classification_data/df_indexes.npy', 'rb') as f:\n",
    "#   indexes = np.load(f)"
   ]
  },
  {
   "cell_type": "code",
   "execution_count": 5,
   "id": "1426ce0b",
   "metadata": {},
   "outputs": [
    {
     "name": "stderr",
     "output_type": "stream",
     "text": [
      "2022-02-04 02:36:08.076565: E tensorflow/stream_executor/cuda/cuda_driver.cc:271] failed call to cuInit: CUDA_ERROR_NO_DEVICE: no CUDA-capable device is detected\n",
      "2022-02-04 02:36:08.076669: I tensorflow/stream_executor/cuda/cuda_diagnostics.cc:156] kernel driver does not appear to be running on this host (renan-nitroan51554): /proc/driver/nvidia/version does not exist\n",
      "2022-02-04 02:36:08.078633: I tensorflow/core/platform/cpu_feature_guard.cc:151] This TensorFlow binary is optimized with oneAPI Deep Neural Network Library (oneDNN) to use the following CPU instructions in performance-critical operations:  AVX2 FMA\n",
      "To enable them in other operations, rebuild TensorFlow with the appropriate compiler flags.\n"
     ]
    },
    {
     "name": "stdout",
     "output_type": "stream",
     "text": [
      "Model: \"sequential\"\n",
      "_________________________________________________________________\n",
      " Layer (type)                Output Shape              Param #   \n",
      "=================================================================\n",
      " conv2d (Conv2D)             (None, 12, 250, 64)       1088      \n",
      "                                                                 \n",
      " batch_normalization (BatchN  (None, 12, 250, 64)      256       \n",
      " ormalization)                                                   \n",
      "                                                                 \n",
      " conv2d_1 (Conv2D)           (None, 12, 250, 64)       65600     \n",
      "                                                                 \n",
      " max_pooling2d (MaxPooling2D  (None, 3, 62, 64)        0         \n",
      " )                                                               \n",
      "                                                                 \n",
      " dropout (Dropout)           (None, 3, 62, 64)         0         \n",
      "                                                                 \n",
      " conv2d_2 (Conv2D)           (None, 3, 62, 256)        262400    \n",
      "                                                                 \n",
      " conv2d_3 (Conv2D)           (None, 3, 62, 256)        1048832   \n",
      "                                                                 \n",
      " max_pooling2d_1 (MaxPooling  (None, 1, 31, 256)       0         \n",
      " 2D)                                                             \n",
      "                                                                 \n",
      " dropout_1 (Dropout)         (None, 1, 31, 256)        0         \n",
      "                                                                 \n",
      " flatten (Flatten)           (None, 7936)              0         \n",
      "                                                                 \n",
      " dense (Dense)               (None, 256)               2031872   \n",
      "                                                                 \n",
      " dropout_2 (Dropout)         (None, 256)               0         \n",
      "                                                                 \n",
      " dense_1 (Dense)             (None, 2)                 514       \n",
      "                                                                 \n",
      "=================================================================\n",
      "Total params: 3,410,562\n",
      "Trainable params: 3,410,434\n",
      "Non-trainable params: 128\n",
      "_________________________________________________________________\n"
     ]
    },
    {
     "name": "stderr",
     "output_type": "stream",
     "text": [
      "2022-02-04 02:36:11.118659: W tensorflow/core/framework/cpu_allocator_impl.cc:82] Allocation of 241200000 exceeds 10% of free system memory.\n"
     ]
    },
    {
     "name": "stdout",
     "output_type": "stream",
     "text": [
      "Epoch 1/10\n"
     ]
    },
    {
     "name": "stderr",
     "output_type": "stream",
     "text": [
      "2022-02-04 02:36:13.221463: W tensorflow/core/framework/cpu_allocator_impl.cc:82] Allocation of 76800000 exceeds 10% of free system memory.\n",
      "2022-02-04 02:36:13.305161: W tensorflow/core/framework/cpu_allocator_impl.cc:82] Allocation of 76800000 exceeds 10% of free system memory.\n",
      "2022-02-04 02:36:13.367490: W tensorflow/core/framework/cpu_allocator_impl.cc:82] Allocation of 76800000 exceeds 10% of free system memory.\n",
      "2022-02-04 02:36:13.573845: W tensorflow/core/framework/cpu_allocator_impl.cc:82] Allocation of 19046400 exceeds 10% of free system memory.\n"
     ]
    },
    {
     "name": "stdout",
     "output_type": "stream",
     "text": [
      "201/201 [==============================] - ETA: 0s - loss: 0.6562 - accuracy: 0.7348\n",
      "Epoch 00001: val_loss improved from inf to 0.45561, saving model to classification_data/6d2698_model.h5\n",
      "201/201 [==============================] - 425s 2s/step - loss: 0.6562 - accuracy: 0.7348 - val_loss: 0.4556 - val_accuracy: 0.8385\n",
      "Epoch 2/10\n",
      "201/201 [==============================] - ETA: 0s - loss: 0.4223 - accuracy: 0.8555\n",
      "Epoch 00002: val_loss improved from 0.45561 to 0.32657, saving model to classification_data/6d2698_model.h5\n",
      "201/201 [==============================] - 379s 2s/step - loss: 0.4223 - accuracy: 0.8555 - val_loss: 0.3266 - val_accuracy: 0.9047\n",
      "Epoch 3/10\n",
      "201/201 [==============================] - ETA: 0s - loss: 0.3314 - accuracy: 0.9019\n",
      "Epoch 00003: val_loss improved from 0.32657 to 0.29376, saving model to classification_data/6d2698_model.h5\n",
      "201/201 [==============================] - 364s 2s/step - loss: 0.3314 - accuracy: 0.9019 - val_loss: 0.2938 - val_accuracy: 0.9193\n",
      "Epoch 4/10\n",
      "201/201 [==============================] - ETA: 0s - loss: 0.2867 - accuracy: 0.9240\n",
      "Epoch 00004: val_loss improved from 0.29376 to 0.27884, saving model to classification_data/6d2698_model.h5\n",
      "201/201 [==============================] - 364s 2s/step - loss: 0.2867 - accuracy: 0.9240 - val_loss: 0.2788 - val_accuracy: 0.9275\n",
      "Epoch 5/10\n",
      "201/201 [==============================] - ETA: 0s - loss: 0.2646 - accuracy: 0.9324\n",
      "Epoch 00005: val_loss improved from 0.27884 to 0.24016, saving model to classification_data/6d2698_model.h5\n",
      "201/201 [==============================] - 364s 2s/step - loss: 0.2646 - accuracy: 0.9324 - val_loss: 0.2402 - val_accuracy: 0.9475\n",
      "Epoch 6/10\n",
      "201/201 [==============================] - ETA: 0s - loss: 0.2415 - accuracy: 0.9420\n",
      "Epoch 00006: val_loss did not improve from 0.24016\n",
      "201/201 [==============================] - 464s 2s/step - loss: 0.2415 - accuracy: 0.9420 - val_loss: 0.2483 - val_accuracy: 0.9413\n",
      "Epoch 7/10\n",
      "201/201 [==============================] - ETA: 0s - loss: 0.2331 - accuracy: 0.9451\n",
      "Epoch 00007: val_loss improved from 0.24016 to 0.22792, saving model to classification_data/6d2698_model.h5\n",
      "201/201 [==============================] - 499s 2s/step - loss: 0.2331 - accuracy: 0.9451 - val_loss: 0.2279 - val_accuracy: 0.9528\n",
      "Epoch 8/10\n",
      "201/201 [==============================] - ETA: 0s - loss: 0.2210 - accuracy: 0.9495\n",
      "Epoch 00008: val_loss improved from 0.22792 to 0.21607, saving model to classification_data/6d2698_model.h5\n",
      "201/201 [==============================] - 365s 2s/step - loss: 0.2210 - accuracy: 0.9495 - val_loss: 0.2161 - val_accuracy: 0.9545\n",
      "Epoch 9/10\n",
      "201/201 [==============================] - ETA: 0s - loss: 0.2070 - accuracy: 0.9554\n",
      "Epoch 00009: val_loss did not improve from 0.21607\n",
      "201/201 [==============================] - 365s 2s/step - loss: 0.2070 - accuracy: 0.9554 - val_loss: 0.2178 - val_accuracy: 0.9572\n",
      "Epoch 10/10\n",
      "201/201 [==============================] - ETA: 0s - loss: 0.2020 - accuracy: 0.9569\n",
      "Epoch 00010: val_loss did not improve from 0.21607\n",
      "201/201 [==============================] - 364s 2s/step - loss: 0.2020 - accuracy: 0.9569 - val_loss: 0.2274 - val_accuracy: 0.9514\n"
     ]
    }
   ],
   "source": [
    "# https://github.com/mbarzegary/ecg-classification-keras-cnn/blob/master/train_keras.py\n",
    "callbacks_list = [\n",
    "  keras.callbacks.ModelCheckpoint(\n",
    "      filepath=f'classification_data/{key}_model.h5',\n",
    "      monitor='val_loss', save_best_only=True, verbose=1),\n",
    "  keras.callbacks.EarlyStopping(monitor='val_loss', patience=10, verbose=1)\n",
    "]\n",
    "\n",
    "model = Sequential()\n",
    "model.add(Conv2D(64, (4, 4), input_shape=X_train.shape[1:], padding='same', kernel_regularizer=l1_l2(0.0001, 0.0001), activation='relu'))\n",
    "model.add(BatchNormalization())\n",
    "model.add(Conv2D(64, (4, 4), kernel_regularizer=l2(0.0001), padding='same', activation='relu'))\n",
    "model.add(MaxPooling2D((4, 4)))\n",
    "model.add(Dropout(0.20))\n",
    "model.add(Conv2D(256, (4, 4), kernel_regularizer=l2(0.0001), padding='same', activation='relu'))\n",
    "model.add(Conv2D(256, (4, 4), kernel_regularizer=l2(0.0001), padding='same', activation='relu'))\n",
    "model.add(MaxPooling2D())\n",
    "model.add(Dropout(0.20))\n",
    "model.add(Flatten())\n",
    "model.add(Dense(256, kernel_regularizer=l2(0.0001), activation='relu'))\n",
    "model.add(Dropout(0.5))\n",
    "model.add(Dense(2, activation='softmax'))\n",
    "model.summary()\n",
    "model.compile(loss='categorical_crossentropy', optimizer='adam', metrics=['accuracy'])\n",
    "model.fit(X_train, y_train,\n",
    "                  batch_size=100,\n",
    "                  epochs=10,\n",
    "                  callbacks = callbacks_list,\n",
    "                  verbose=1,\n",
    "                  validation_data=(X_test, y_test))"
   ]
  },
  {
   "cell_type": "code",
   "execution_count": 6,
   "id": "034c6e63",
   "metadata": {
    "scrolled": false
   },
   "outputs": [
    {
     "data": {
      "image/png": "[encoded data removed]",
      "text/plain": [
       "<Figure size 1152x576 with 2 Axes>"
      ]
     },
     "metadata": {
      "needs_background": "light"
     },
     "output_type": "display_data"
    }
   ],
   "source": [
    "fig, ax = plt.subplots(1,2, figsize=(16,8))\n",
    "ax[0].plot(model.history['loss'], color='b', label=\"Training loss\")\n",
    "ax[0].plot(model.history['val_loss'], color='r', label=\"validation loss\",axes =ax[0])\n",
    "legend = ax[0].legend(loc='best', shadow=True)\n",
    "\n",
    "ax[1].plot(model.history['accuracy'], color='b', label=\"Training accuracy\")\n",
    "ax[1].plot(model.history['val_accuracy'], color='r',label=\"Validation accuracy\")\n",
    "legend = ax[1].legend(loc='best', shadow=True)"
   ]
  },
  {
   "cell_type": "code",
   "execution_count": 3,
   "id": "17ef49f6",
   "metadata": {},
   "outputs": [
    {
     "name": "stderr",
     "output_type": "stream",
     "text": [
      "2022-02-13 08:40:50.898685: E tensorflow/stream_executor/cuda/cuda_driver.cc:271] failed call to cuInit: CUDA_ERROR_NO_DEVICE: no CUDA-capable device is detected\n",
      "2022-02-13 08:40:50.898717: I tensorflow/stream_executor/cuda/cuda_diagnostics.cc:156] kernel driver does not appear to be running on this host (renan-nitroan51554): /proc/driver/nvidia/version does not exist\n",
      "2022-02-13 08:40:50.899754: I tensorflow/core/platform/cpu_feature_guard.cc:151] This TensorFlow binary is optimized with oneAPI Deep Neural Network Library (oneDNN) to use the following CPU instructions in performance-critical operations:  AVX2 FMA\n",
      "To enable them in other operations, rebuild TensorFlow with the appropriate compiler flags.\n",
      "2022-02-13 08:40:51.199006: W tensorflow/core/framework/cpu_allocator_impl.cc:82] Allocation of 118800000 exceeds 10% of free system memory.\n"
     ]
    }
   ],
   "source": [
    "loaded_model = load_model(f'classification_data/6d2698_model.h5')\n",
    "y_pred = (loaded_model.predict(X_test) > 0.5).astype(np.int32)"
   ]
  },
  {
   "cell_type": "code",
   "execution_count": 10,
   "id": "81a46312",
   "metadata": {},
   "outputs": [
    {
     "data": {
      "text/plain": [
       "0.9586069651741294"
      ]
     },
     "execution_count": 10,
     "metadata": {},
     "output_type": "execute_result"
    }
   ],
   "source": [
    "#y_pred_train = (loaded_model.predict(X_train) > 0.5).astype(np.int32)\n",
    "accuracy_score(y_train.argmax(axis=1), y_pred_train.argmax(axis=1))"
   ]
  },
  {
   "cell_type": "code",
   "execution_count": 6,
   "id": "0e28a246",
   "metadata": {},
   "outputs": [
    {
     "data": {
      "text/plain": [
       "<AxesSubplot:>"
      ]
     },
     "execution_count": 6,
     "metadata": {},
     "output_type": "execute_result"
    },
    {
     "data": {
      "image/png": "[encoded data removed]",
      "text/plain": [
       "<Figure size 432x288 with 2 Axes>"
      ]
     },
     "metadata": {
      "needs_background": "light"
     },
     "output_type": "display_data"
    }
   ],
   "source": [
    "matrix = confusion_matrix(y_test.argmax(axis=1), y_pred.argmax(axis=1))\n",
    "ax = plt.subplot()\n",
    "cmap = plt.get_cmap('Blues')\n",
    "sns.heatmap(matrix, annot=True, fmt='g', ax=ax, cmap=cmap)"
   ]
  },
  {
   "cell_type": "code",
   "execution_count": 8,
   "id": "20970d2b",
   "metadata": {},
   "outputs": [
    {
     "name": "stdout",
     "output_type": "stream",
     "text": [
      "[010] sensitivity 0.9517481087712124\n",
      "[010] specificity 0.9556797764024756\n"
     ]
    }
   ],
   "source": [
    "print('[{:03d}] sensitivity'.format(10), matrix[0, 0] / (matrix[0, 1] + matrix[0, 0]))\n",
    "print('[{:03d}] specificity'.format(10), matrix[1, 1] / (matrix[1, 1] + matrix[1, 0]))"
   ]
  },
  {
   "cell_type": "code",
   "execution_count": 8,
   "id": "79577365",
   "metadata": {},
   "outputs": [
    {
     "data": {
      "text/plain": [
       "0.9594949494949495"
      ]
     },
     "execution_count": 8,
     "metadata": {},
     "output_type": "execute_result"
    }
   ],
   "source": [
    "accuracy_score(y_test.argmax(axis=1), y_pred.argmax(axis=1))"
   ]
  },
  {
   "cell_type": "code",
   "execution_count": 9,
   "id": "81b53196",
   "metadata": {},
   "outputs": [
    {
     "data": {
      "text/plain": [
       "0.9595888340219692"
      ]
     },
     "execution_count": 9,
     "metadata": {},
     "output_type": "execute_result"
    }
   ],
   "source": [
    "f1_score(y_test.argmax(axis=1), y_pred.argmax(axis=1), average='binary')"
   ]
  }
 ],
 "metadata": {
  "kernelspec": {
   "display_name": "Python 3.7",
   "language": "python",
   "name": "py37"
  },
  "language_info": {
   "codemirror_mode": {
    "name": "ipython",
    "version": 3
   },
   "file_extension": ".py",
   "mimetype": "text/x-python",
   "name": "python",
   "nbconvert_exporter": "python",
   "pygments_lexer": "ipython3",
   "version": "3.7.4"
  }
 },
 "nbformat": 4,
 "nbformat_minor": 5
}
