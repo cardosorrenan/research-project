{
 "cells": [
  {
   "cell_type": "code",
   "execution_count": 1,
   "id": "4824c8a7",
   "metadata": {},
   "outputs": [
    {
     "name": "stderr",
     "output_type": "stream",
     "text": [
      "/home/renan/Área de Trabalho/research-project/py37/lib/python3.7/site-packages/pandas/compat/__init__.py:124: UserWarning: Could not import the lzma module. Your installed Python is incomplete. Attempting to use lzma compression will result in a RuntimeError.\n",
      "  warnings.warn(msg)\n"
     ]
    }
   ],
   "source": [
    "import sys, io, os\n",
    "\n",
    "os.environ[\"LD_LIBRARY_PATH\"] = \"/home/renan/MATLAB/R2021b/runtime/glnxa64/\"\n",
    "\n",
    "import numpy as np\n",
    "from libs import myDehankelization, myHankelization, myBTD\n",
    "import seaborn as sns\n",
    "import matplotlib.pyplot as plt\n",
    "import matlab\n",
    "import pandas as pd\n",
    "from random import randint\n",
    "from scipy.io import savemat\n",
    "from scipy.signal import resample\n",
    "import ecg_plot\n",
    "import scipy.fftpack as fftpack\n",
    "from scipy.stats import kurtosis\n",
    "from scipy.linalg import norm"
   ]
  },
  {
   "cell_type": "code",
   "execution_count": 3,
   "id": "a6808787",
   "metadata": {},
   "outputs": [
    {
     "data": {
      "text/plain": [
       "diagnostic  db                  \n",
       "AF          WFDB_CPSC2018           10\n",
       "            WFDB_CPSC2018_2         10\n",
       "            WFDB_ChapmanShaoxing    10\n",
       "            WFDB_Ga                 10\n",
       "            WFDB_PTBXL              10\n",
       "SR          WFDB_CPSC2018           10\n",
       "            WFDB_CPSC2018_2         10\n",
       "            WFDB_ChapmanShaoxing    10\n",
       "            WFDB_Ga                 10\n",
       "            WFDB_Ningbo             10\n",
       "            WFDB_PTBXL              10\n",
       "dtype: int64"
      ]
     },
     "execution_count": 3,
     "metadata": {},
     "output_type": "execute_result"
    }
   ],
   "source": [
    "'''\n",
    "\n",
    "Getting df Aldebaran\n",
    "\n",
    "df_0 = pd.read_pickle('../data/part_0.pkl')\n",
    "df_1 = pd.read_pickle('../data/part_1.pkl')\n",
    "df = df_0.append(df_1)\n",
    "df = df.groupby(['diagnostic', 'db']).head(10)\n",
    "df.to_pickle(f'../aldebaran/data.pkl')\n",
    "df.groupby(['diagnostic', 'db']).size()\n",
    "'''"
   ]
  },
  {
   "cell_type": "code",
   "execution_count": 2,
   "id": "3d8775bd",
   "metadata": {},
   "outputs": [
    {
     "data": {
      "text/plain": [
       "diagnostic  db                  \n",
       "AF          WFDB_CPSC2018           10\n",
       "            WFDB_CPSC2018_2         10\n",
       "            WFDB_ChapmanShaoxing    10\n",
       "            WFDB_Ga                 10\n",
       "            WFDB_PTBXL              10\n",
       "SR          WFDB_CPSC2018           10\n",
       "            WFDB_CPSC2018_2         10\n",
       "            WFDB_ChapmanShaoxing    10\n",
       "            WFDB_Ga                 10\n",
       "            WFDB_Ningbo             10\n",
       "            WFDB_PTBXL              10\n",
       "dtype: int64"
      ]
     },
     "execution_count": 2,
     "metadata": {},
     "output_type": "execute_result"
    }
   ],
   "source": [
    "df = pd.read_pickle(f'../aldebaran/data.pkl')\n",
    "df.groupby(['diagnostic', 'db']).size()"
   ]
  },
  {
   "cell_type": "code",
   "execution_count": 5,
   "id": "f8f54079",
   "metadata": {},
   "outputs": [
    {
     "name": "stdout",
     "output_type": "stream",
     "text": [
      "\n",
      "       fval             relfval          relstep          delta        rho\n",
      "       =1/2*norm(F)^2   TolFun = 1e-05   TolX = 1e-05\n",
      "\n",
      "   0:  3.40400905e+09 |\n",
      "   1:  3.25897730e+09 | 4.26061568e-02 | 3.00000000e-01 | 5.9529e+01 | 7.0482e+00\n",
      "   2:  2.22598982e+09 | 3.03462025e-01 | 1.43452693e-01 | 2.9764e+01 | 1.8552e+00\n",
      "\n",
      "Maximum number of iterations reached.\n",
      "\n"
     ]
    }
   ],
   "source": [
    "for index, row in df.iloc[0:1].iterrows():\n",
    "    recording = row['data']\n",
    "    leads, samples = recording.shape\n",
    "    new_freq = 100\n",
    "    time_rec = samples/250\n",
    "    n_samples = int(time_rec*new_freq)\n",
    "    recording = resample(recording, n_samples, axis=1)\n",
    "\n",
    "    T = np.zeros((50, 51, leads))\n",
    "    my_hankelization = myHankelization.initialize()\n",
    "    for i in range(0, leads):\n",
    "        vec = matlab.double(recording[i].tolist(), size=recording[i].shape)\n",
    "        T[:, :, i] = my_hankelization.hankelization(vec)\n",
    "    my_hankelization.terminate()\n",
    "\n",
    "    T = matlab.double(T.tolist(), size=T.shape)\n",
    "    R = matlab.double([6.0], size=(1, 1))\n",
    "    max_iter = matlab.double([2.0], size=(1, 1))\n",
    "    multirank = matlab.double([40.0, 40.0, 1.0], size=(1, 3))\n",
    "\n",
    "    tol_fun = matlab.double([1.0E-5], size=(1, 1))\n",
    "    tol_x = matlab.double([1.0E-5], size=(1, 1))\n",
    "\n",
    "    btd = myBTD.initialize()\n",
    "    result, output = btd.myBTD(R, multirank, max_iter, tol_fun, tol_x, T, nargout=2)\n",
    "\n",
    "    #output = np.array(output)\n",
    "    btd.terminate()\n",
    "\n",
    "\n",
    "\n",
    "    path = f'../aldebaran/rank_{R._data[0]}'\n",
    "    if not os.path.exists(path):\n",
    "        os.makedirs(path)\n",
    "\n",
    "    with open(f'{path}/{row.name}.npy', 'wb') as file:\n",
    "        np.save(file, output)\n",
    "\n"
   ]
  },
  {
   "cell_type": "code",
   "execution_count": 11,
   "id": "08af822b",
   "metadata": {},
   "outputs": [
    {
     "ename": "SyntaxError",
     "evalue": "can't use starred expression here (3840212665.py, line 4)",
     "output_type": "error",
     "traceback": [
      "\u001b[0;36m  File \u001b[0;32m\"/tmp/ipykernel_69578/3840212665.py\"\u001b[0;36m, line \u001b[0;32m4\u001b[0m\n\u001b[0;31mSyntaxError\u001b[0m\u001b[0;31m:\u001b[0m can't use starred expression here\n"
     ]
    }
   ],
   "source": [
    "fval, relfval, relstep, delta, rho = (**output)"
   ]
  },
  {
   "cell_type": "code",
   "execution_count": null,
   "id": "ac7aac80",
   "metadata": {},
   "outputs": [],
   "source": [
    "def get_sources(filename):\n",
    "    with open(f\"tensor_data/6d2698_indexes/{filename}\", 'rb') as f:\n",
    "            output = np.load(f, allow_pickle=True)\n",
    "    output = np.array(output)\n",
    "    sources = np.empty((0, 100), int)\n",
    "    contrib_sources = np.empty((0, 12), int)\n",
    "    my_dehankelization = myDehankelization.initialize()\n",
    "    for i in range(0, len(output)):\n",
    "        a = np.array(output[i][0])\n",
    "        b = np.array(output[i][1]).T\n",
    "        c = np.array(output[i][2]).T\n",
    "        contrib_sources = np.append(contrib_sources, c, axis=0)\n",
    "        mixing_matrix = np.dot(a, b)\n",
    "        m_hankel = matlab.double(mixing_matrix.tolist(), size=mixing_matrix.shape)\n",
    "        source = my_dehankelization.dehankelization(m_hankel)\n",
    "        sources = np.append(sources, np.array(source).T, axis=0)\n",
    "    my_dehankelization.terminate()\n",
    "    return sources, contrib_sources\n",
    "\n",
    "\n",
    "def get_likely_atrial(sources, contrib_sources):\n",
    "    x = np.linspace(0, 1, 100)\n",
    "    potentials_aa = np.empty((0, 100), int)\n",
    "    for i, source in enumerate(sources):\n",
    "        fourier = np.fft.fft(source)\n",
    "        fourier = fourier[:int(len(source)/2)]\n",
    "        frequencies = np.fft.fftfreq(len(source), d=x[1]-x[0])[:int(len(source)/2)]\n",
    "        frequencies = frequencies[:int(len(source)/2)]\n",
    "        freq = frequencies[np.argmax(np.abs(fourier))]\n",
    "        contrib_source = contrib_sources[i, :]\n",
    "        contrib_source_V1 = contrib_source[1]\n",
    "        power_contrib = (norm(contrib_source_V1*source)**2)/100\n",
    "        if freq > 3 and freq < 9 and power_contrib > 0.0001:\n",
    "            potentials_aa = np.append(potentials_aa, np.array([source]), axis=0)\n",
    "    return potentials_aa\n",
    "\n",
    "\n",
    "def get_atrial_source(potentials_aa):\n",
    "    kurt_pot_aa = [*map(lambda p_aa: kurtosis(p_aa), potentials_aa)]\n",
    "    atrial_source = potentials_aa[kurt_pot_aa.index(max(kurt_pot_aa))]\n",
    "    return atrial_source\n",
    "    \n",
    "    \n",
    "def get_df_atrial():\n",
    "    files = os.listdir('tensor_data/6d2698_indexes')\n",
    "    rows = list()\n",
    "    for filename in files:\n",
    "        sources, contrib_sources = get_sources(filename)\n",
    "        # potentials_aa = get_likely_atrial(sources, contrib_sources)\n",
    "        #if potentials_aa.size != 0:\n",
    "        #    atrial_source = get_atrial_source(potentials_aa)\n",
    "        label = df.loc[int(filename.split('.')[0])].diagnostic\n",
    "        rows.append({\n",
    "              'id': int(filename.split('.')[0]),\n",
    "              'data': sources,\n",
    "              'label': label\n",
    "        })\n",
    "    return pd.DataFrame(rows)\n",
    "\n",
    "df_atrial = get_df_atrial()"
   ]
  },
  {
   "cell_type": "code",
   "execution_count": null,
   "id": "c65cceaf",
   "metadata": {},
   "outputs": [],
   "source": [
    "from sklearn.neighbors import KNeighborsClassifier\n",
    "from tensorflow.keras.utils import to_categorical\n",
    "from sklearn.preprocessing import LabelEncoder\n",
    "from sklearn.model_selection import train_test_split\n",
    "import pandas as pd\n",
    "import numpy as np\n",
    "\n",
    "df_atrial = pd.read_pickle('df_atrial.pkl')\n",
    "label_encoder = LabelEncoder()\n"
   ]
  }
 ],
 "metadata": {
  "kernelspec": {
   "display_name": "Python 3.7",
   "language": "python",
   "name": "py37"
  },
  "language_info": {
   "codemirror_mode": {
    "name": "ipython",
    "version": 3
   },
   "file_extension": ".py",
   "mimetype": "text/x-python",
   "name": "python",
   "nbconvert_exporter": "python",
   "pygments_lexer": "ipython3",
   "version": "3.7.4"
  }
 },
 "nbformat": 4,
 "nbformat_minor": 5
}
