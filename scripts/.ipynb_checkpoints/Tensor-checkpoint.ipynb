{
 "cells": [
  {
   "cell_type": "code",
   "execution_count": 1,
   "id": "4824c8a7",
   "metadata": {},
   "outputs": [
    {
     "name": "stdout",
     "output_type": "stream",
     "text": [
      "Exception caught during initialization of Python interface. Details: libpython3.7m.so.1.0: cannot open shared object file: No such file or directory\n"
     ]
    },
    {
     "ename": "ImportError",
     "evalue": "libpython3.7m.so.1.0: cannot open shared object file: No such file or directory",
     "output_type": "error",
     "traceback": [
      "\u001b[0;31m---------------------------------------------------------------------------\u001b[0m",
      "\u001b[0;31mImportError\u001b[0m                               Traceback (most recent call last)",
      "\u001b[0;32m/tmp/ipykernel_21889/1623496120.py\u001b[0m in \u001b[0;36m<module>\u001b[0;34m\u001b[0m\n\u001b[1;32m      4\u001b[0m \u001b[0;34m\u001b[0m\u001b[0m\n\u001b[1;32m      5\u001b[0m \u001b[0;32mimport\u001b[0m \u001b[0mnumpy\u001b[0m \u001b[0;32mas\u001b[0m \u001b[0mnp\u001b[0m\u001b[0;34m\u001b[0m\u001b[0;34m\u001b[0m\u001b[0m\n\u001b[0;32m----> 6\u001b[0;31m \u001b[0;32mimport\u001b[0m \u001b[0mmyDehankelization\u001b[0m\u001b[0;34m\u001b[0m\u001b[0;34m\u001b[0m\u001b[0m\n\u001b[0m\u001b[1;32m      7\u001b[0m \u001b[0;32mimport\u001b[0m \u001b[0mseaborn\u001b[0m \u001b[0;32mas\u001b[0m \u001b[0msns\u001b[0m\u001b[0;34m\u001b[0m\u001b[0;34m\u001b[0m\u001b[0m\n\u001b[1;32m      8\u001b[0m \u001b[0;32mimport\u001b[0m \u001b[0mmatplotlib\u001b[0m\u001b[0;34m.\u001b[0m\u001b[0mpyplot\u001b[0m \u001b[0;32mas\u001b[0m \u001b[0mplt\u001b[0m\u001b[0;34m\u001b[0m\u001b[0;34m\u001b[0m\u001b[0m\n",
      "\u001b[0;32m~/Área de Trabalho/research-project/scripts/myDehankelization/__init__.py\u001b[0m in \u001b[0;36m<module>\u001b[0;34m\u001b[0m\n\u001b[1;32m    298\u001b[0m \u001b[0;34m\u001b[0m\u001b[0m\n\u001b[1;32m    299\u001b[0m     \u001b[0m_pir\u001b[0m\u001b[0;34m.\u001b[0m\u001b[0mupdate_paths\u001b[0m\u001b[0;34m(\u001b[0m\u001b[0;34m)\u001b[0m\u001b[0;34m\u001b[0m\u001b[0;34m\u001b[0m\u001b[0m\n\u001b[0;32m--> 300\u001b[0;31m     \u001b[0m_pir\u001b[0m\u001b[0;34m.\u001b[0m\u001b[0mimport_cppext\u001b[0m\u001b[0;34m(\u001b[0m\u001b[0;34m)\u001b[0m\u001b[0;34m\u001b[0m\u001b[0;34m\u001b[0m\u001b[0m\n\u001b[0m\u001b[1;32m    301\u001b[0m     \u001b[0m_pir\u001b[0m\u001b[0;34m.\u001b[0m\u001b[0mimport_matlab_pysdk_runtime\u001b[0m\u001b[0;34m(\u001b[0m\u001b[0;34m)\u001b[0m\u001b[0;34m\u001b[0m\u001b[0;34m\u001b[0m\u001b[0m\n\u001b[1;32m    302\u001b[0m     \u001b[0m_pir\u001b[0m\u001b[0;34m.\u001b[0m\u001b[0mimport_matlab\u001b[0m\u001b[0;34m(\u001b[0m\u001b[0;34m)\u001b[0m\u001b[0;34m\u001b[0m\u001b[0;34m\u001b[0m\u001b[0m\n",
      "\u001b[0;32m~/Área de Trabalho/research-project/scripts/myDehankelization/__init__.py\u001b[0m in \u001b[0;36mimport_cppext\u001b[0;34m(self)\u001b[0m\n\u001b[1;32m    291\u001b[0m \u001b[0;34m\u001b[0m\u001b[0m\n\u001b[1;32m    292\u001b[0m     \u001b[0;32mdef\u001b[0m \u001b[0mimport_cppext\u001b[0m\u001b[0;34m(\u001b[0m\u001b[0mself\u001b[0m\u001b[0;34m)\u001b[0m\u001b[0;34m:\u001b[0m\u001b[0;34m\u001b[0m\u001b[0;34m\u001b[0m\u001b[0m\n\u001b[0;32m--> 293\u001b[0;31m         \u001b[0mself\u001b[0m\u001b[0;34m.\u001b[0m\u001b[0mcppext_handle\u001b[0m \u001b[0;34m=\u001b[0m \u001b[0mimportlib\u001b[0m\u001b[0;34m.\u001b[0m\u001b[0mimport_module\u001b[0m\u001b[0;34m(\u001b[0m\u001b[0;34m\"matlabruntimeforpython\"\u001b[0m \u001b[0;34m+\u001b[0m \u001b[0mself\u001b[0m\u001b[0;34m.\u001b[0m\u001b[0minterpreter_version\u001b[0m\u001b[0;34m)\u001b[0m\u001b[0;34m\u001b[0m\u001b[0;34m\u001b[0m\u001b[0m\n\u001b[0m\u001b[1;32m    294\u001b[0m \u001b[0;34m\u001b[0m\u001b[0m\n\u001b[1;32m    295\u001b[0m \u001b[0;32mtry\u001b[0m\u001b[0;34m:\u001b[0m\u001b[0;34m\u001b[0m\u001b[0;34m\u001b[0m\u001b[0m\n",
      "\u001b[0;32m/usr/local/lib/python3.7/importlib/__init__.py\u001b[0m in \u001b[0;36mimport_module\u001b[0;34m(name, package)\u001b[0m\n\u001b[1;32m    125\u001b[0m                 \u001b[0;32mbreak\u001b[0m\u001b[0;34m\u001b[0m\u001b[0;34m\u001b[0m\u001b[0m\n\u001b[1;32m    126\u001b[0m             \u001b[0mlevel\u001b[0m \u001b[0;34m+=\u001b[0m \u001b[0;36m1\u001b[0m\u001b[0;34m\u001b[0m\u001b[0;34m\u001b[0m\u001b[0m\n\u001b[0;32m--> 127\u001b[0;31m     \u001b[0;32mreturn\u001b[0m \u001b[0m_bootstrap\u001b[0m\u001b[0;34m.\u001b[0m\u001b[0m_gcd_import\u001b[0m\u001b[0;34m(\u001b[0m\u001b[0mname\u001b[0m\u001b[0;34m[\u001b[0m\u001b[0mlevel\u001b[0m\u001b[0;34m:\u001b[0m\u001b[0;34m]\u001b[0m\u001b[0;34m,\u001b[0m \u001b[0mpackage\u001b[0m\u001b[0;34m,\u001b[0m \u001b[0mlevel\u001b[0m\u001b[0;34m)\u001b[0m\u001b[0;34m\u001b[0m\u001b[0;34m\u001b[0m\u001b[0m\n\u001b[0m\u001b[1;32m    128\u001b[0m \u001b[0;34m\u001b[0m\u001b[0m\n\u001b[1;32m    129\u001b[0m \u001b[0;34m\u001b[0m\u001b[0m\n",
      "\u001b[0;31mImportError\u001b[0m: libpython3.7m.so.1.0: cannot open shared object file: No such file or directory"
     ]
    }
   ],
   "source": [
    "import os\n",
    "\n",
    "os.environ[\"LD_LIBRARY_PATH\"] = \"/home/renan/MATLAB/R2021b/runtime/glnxa64/\"\n",
    "\n",
    "import numpy as np\n",
    "import myDehankelization\n",
    "import seaborn as sns\n",
    "import matplotlib.pyplot as plt\n",
    "import matlab\n",
    "import pandas as pd\n",
    "from random import randint\n",
    "from scipy.io import savemat\n",
    "from scipy.signal import resample\n",
    "import ecg_plot\n",
    "import scipy.fftpack as fftpack\n",
    "from scipy.stats import kurtosis\n",
    "from scipy.linalg import norm"
   ]
  },
  {
   "cell_type": "code",
   "execution_count": null,
   "id": "24de27c7",
   "metadata": {},
   "outputs": [],
   "source": [
    "df = pd.read_pickle('2022-02-02_02_05_35.pkl')\n",
    "with open(f'classification_data/6d2698_indexes.npy', 'rb') as f:\n",
    "    indexes = np.load(f)    \n",
    "df_new = df[df.index.isin(indexes)]"
   ]
  },
  {
   "cell_type": "code",
   "execution_count": null,
   "id": "1d98fe18",
   "metadata": {},
   "outputs": [],
   "source": [
    "df_new = df_new.sample(frac=1)"
   ]
  },
  {
   "cell_type": "code",
   "execution_count": null,
   "id": "f8f54079",
   "metadata": {},
   "outputs": [],
   "source": [
    "for index, row in df_new.iloc[0:500].iterrows():\n",
    "    \n",
    "    # Criar logica para pular caso exista\n",
    "    \n",
    "    recording = row['data']\n",
    "    leads, samples = recording.shape\n",
    "    new_freq = 100\n",
    "    time_rec = samples/250\n",
    "    n_samples = int(time_rec*new_freq)\n",
    "    recording = resample(recording, n_samples, axis=1)\n",
    "    \n",
    "    T = np.zeros((50, 51, leads))\n",
    "    my_hankelization = myHankelization.initialize()\n",
    "    for i in range(0, leads):\n",
    "        vec = matlab.double(recording[i].tolist(), size=recording[i].shape)\n",
    "        T[:, :, i] = my_hankelization.hankelization(vec)\n",
    "    my_hankelization.terminate()\n",
    "\n",
    "    T = matlab.double(T.tolist(), size=T.shape)\n",
    "    R = matlab.double([6.0], size=(1, 1))\n",
    "    multirank = matlab.double([40.0, 40.0, 1.0], size=(1, 3))\n",
    "    my_BTD = BTD3.initialize()\n",
    "    output = my_BTD.BTD(R, multirank, T)\n",
    "    output = np.array(output)\n",
    "    my_BTD.terminate()\n",
    "    \n",
    "    with open(f\"tensor_data/6d2698_indexes/{row.name}.npy\", 'wb') as f:\n",
    "        np.save(f, output)"
   ]
  },
  {
   "cell_type": "code",
   "execution_count": null,
   "id": "ac7aac80",
   "metadata": {},
   "outputs": [],
   "source": [
    "def get_sources(filename):\n",
    "    with open(f\"tensor_data/6d2698_indexes/{filename}\", 'rb') as f:\n",
    "            output = np.load(f, allow_pickle=True)\n",
    "    output = np.array(output)\n",
    "    sources = np.empty((0, 100), int)\n",
    "    contrib_sources = np.empty((0, 12), int)\n",
    "    my_dehankelization = myDehankelization.initialize()\n",
    "    for i in range(0, len(output)):\n",
    "        a = np.array(output[i][0])\n",
    "        b = np.array(output[i][1]).T\n",
    "        c = np.array(output[i][2]).T\n",
    "        contrib_sources = np.append(contrib_sources, c, axis=0)\n",
    "        mixing_matrix = np.dot(a, b)\n",
    "        m_hankel = matlab.double(mixing_matrix.tolist(), size=mixing_matrix.shape)\n",
    "        source = my_dehankelization.dehankelization(m_hankel)\n",
    "        sources = np.append(sources, np.array(source).T, axis=0)\n",
    "    my_dehankelization.terminate()\n",
    "    return sources, contrib_sources\n",
    "\n",
    "\n",
    "def get_likely_atrial(sources, contrib_sources):\n",
    "    x = np.linspace(0, 1, 100)\n",
    "    potentials_aa = np.empty((0, 100), int)\n",
    "    for i, source in enumerate(sources):\n",
    "        fourier = np.fft.fft(source)\n",
    "        fourier = fourier[:int(len(source)/2)]\n",
    "        frequencies = np.fft.fftfreq(len(source), d=x[1]-x[0])[:int(len(source)/2)]\n",
    "        frequencies = frequencies[:int(len(source)/2)]\n",
    "        freq = frequencies[np.argmax(np.abs(fourier))]\n",
    "        contrib_source = contrib_sources[i, :]\n",
    "        contrib_source_V1 = contrib_source[1]\n",
    "        power_contrib = (norm(contrib_source_V1*source)**2)/100\n",
    "        if freq > 3 and freq < 9 and power_contrib > 0.0001:\n",
    "            potentials_aa = np.append(potentials_aa, np.array([source]), axis=0)\n",
    "    return potentials_aa\n",
    "\n",
    "\n",
    "def get_atrial_source(potentials_aa):\n",
    "    kurt_pot_aa = [*map(lambda p_aa: kurtosis(p_aa), potentials_aa)]\n",
    "    atrial_source = potentials_aa[kurt_pot_aa.index(max(kurt_pot_aa))]\n",
    "    return atrial_source\n",
    "    \n",
    "    \n",
    "def get_df_atrial():\n",
    "    files = os.listdir('tensor_data/6d2698_indexes')\n",
    "    rows = list()\n",
    "    for filename in files:\n",
    "        sources, contrib_sources = get_sources(filename)\n",
    "        # potentials_aa = get_likely_atrial(sources, contrib_sources)\n",
    "        #if potentials_aa.size != 0:\n",
    "        #    atrial_source = get_atrial_source(potentials_aa)\n",
    "        label = df.loc[int(filename.split('.')[0])].diagnostic\n",
    "        rows.append({\n",
    "              'id': int(filename.split('.')[0]),\n",
    "              'data': sources,\n",
    "              'label': label\n",
    "        })\n",
    "    return pd.DataFrame(rows)\n",
    "\n",
    "df_atrial = get_df_atrial()"
   ]
  },
  {
   "cell_type": "code",
   "execution_count": null,
   "id": "c65cceaf",
   "metadata": {},
   "outputs": [],
   "source": [
    "from sklearn.neighbors import KNeighborsClassifier\n",
    "from tensorflow.keras.utils import to_categorical\n",
    "from sklearn.preprocessing import LabelEncoder\n",
    "from sklearn.model_selection import train_test_split\n",
    "import pandas as pd\n",
    "import numpy as np\n",
    "\n",
    "df_atrial = pd.read_pickle('df_atrial.pkl')\n",
    "label_encoder = LabelEncoder()\n"
   ]
  }
 ],
 "metadata": {
  "kernelspec": {
   "display_name": "Python 3.7",
   "language": "python",
   "name": "py37"
  },
  "language_info": {
   "codemirror_mode": {
    "name": "ipython",
    "version": 3
   },
   "file_extension": ".py",
   "mimetype": "text/x-python",
   "name": "python",
   "nbconvert_exporter": "python",
   "pygments_lexer": "ipython3",
   "version": "3.7.4"
  }
 },
 "nbformat": 4,
 "nbformat_minor": 5
}
