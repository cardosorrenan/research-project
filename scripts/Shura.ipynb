{
 "cells": [
  {
   "cell_type": "code",
   "execution_count": 75,
   "id": "4ce3cbb1",
   "metadata": {},
   "outputs": [],
   "source": [
    "import os\n",
    "import sys\n",
    "import datetime\n",
    "\n",
    "import matlab\n",
    "import pandas as pd\n",
    "import numpy as np\n",
    "import csv\n",
    "\n",
    "os.environ[\"LD_LIBRARY_PATH\"] = \"/home/renan/MATLAB/R2021b/runtime/glnxa64/\";\n",
    "\n",
    "sys.path.append(\"../matlab/myBTD2/myBTD2/for_redistribution_files_only\");\n",
    "\n",
    "from myPackages import myDehankelization, myHankelization\n",
    "import myBTD2"
   ]
  },
  {
   "cell_type": "code",
   "execution_count": 73,
   "id": "4f83c1e3",
   "metadata": {},
   "outputs": [],
   "source": [
    "def get_dim_hankel(N):\n",
    "    N = int(N)\n",
    "    if N & 1:\n",
    "        I = J = (N + 1)/2 \n",
    "    else:\n",
    "        I = N/2\n",
    "        J = N/2 + 1\n",
    "    return int(I), int(J)\n",
    "\n",
    "\n",
    "def hankelization(recording):\n",
    "    n_lead, n_rec = recording.shape\n",
    "    I, J = get_dim_hankel(n_rec)\n",
    "    T = np.zeros((I, J, n_lead))\n",
    "    my_hankelization = myHankelization.initialize()\n",
    "    for i in range(0, n_lead):\n",
    "        vec = matlab.double(recording[i].tolist(), size=recording[i].shape)\n",
    "        T[:, :, i] = my_hankelization.hankelization(vec)\n",
    "    my_hankelization.terminate()\n",
    "    T = matlab.double(T.tolist(), size=T.shape)\n",
    "    return T"
   ]
  },
  {
   "cell_type": "code",
   "execution_count": 78,
   "id": "f8f54079",
   "metadata": {},
   "outputs": [
    {
     "name": "stdout",
     "output_type": "stream",
     "text": [
      "RANK: 6\n"
     ]
    },
    {
     "name": "stderr",
     "output_type": "stream",
     "text": [
      "/home/renan/Área de Trabalho/research-project/py37/lib/python3.7/site-packages/numpy/lib/npyio.py:528: VisibleDeprecationWarning: Creating an ndarray from ragged nested sequences (which is a list-or-tuple of lists-or-tuples-or ndarrays with different lengths or shapes) is deprecated. If you meant to do this, you must specify 'dtype=object' when creating the ndarray.\n",
      "  arr = np.asanyarray(arr)\n"
     ]
    }
   ],
   "source": [
    "LR = matlab.double([17], size=(1, 1))\n",
    "MAX_ITER = matlab.double([1000], size=(1, 1))\n",
    "TOLERANCE_FUN = matlab.double([1.0E-6], size=(1, 1))\n",
    "TOLERANCE_X = matlab.double([1.0E-6], size=(1, 1))\n",
    "DISPLAY = matlab.logical([False], size=(1, 1))\n",
    "path = f'../workdata/shura/'\n",
    "\n",
    "if not os.path.exists(f'{path}'):\n",
    "    os.makedirs(path)  \n",
    "\n",
    "aioros_df = pd.read_pickle(f'../workdata/aioros/aioros.pkl')\n",
    "\n",
    "for rank in range(6, 7):\n",
    "    print(f'RANK: {rank}')\n",
    "    \n",
    "    if not os.path.exists(f'{path}/rank_{rank}'):\n",
    "        os.makedirs(f'{path}/rank_{rank}')  \n",
    "        \n",
    "    rank_matlab = matlab.double([rank], size=(1, 1))\n",
    "    \n",
    "    for index, row in aioros_df.iterrows():\n",
    "        recording = row['data']\n",
    "        recording_hankel = hankelization(recording)\n",
    "\n",
    "        btd = myBTD2.initialize()\n",
    "        result, output = btd.myBTD2(rank_matlab, \n",
    "                                    LR, \n",
    "                                    MAX_ITER, \n",
    "                                    TOLERANCE_FUN, \n",
    "                                    TOLERANCE_X, \n",
    "                                    DISPLAY, \n",
    "                                    recording_hankel, \n",
    "                                    nargout=2)\n",
    "        btd.terminate()\n",
    "        \n",
    "        output['index'] = index\n",
    "        output['rank'] = rank\n",
    "        output['lr'] = LR[0][0]\n",
    "        output['filename'] = row['filename']                       \n",
    "        output['db'] = row['db']\n",
    "        output['diagnostic'] = row['diag']\n",
    "        output['datetime'] = datetime.datetime.now().strftime(\"%d/%m/%Y %H:%M:%S\")\n",
    "\n",
    "        with open(f'{path}/rank_{rank}/{row.name}.npy', 'wb') as file:\n",
    "            np.save(file, result)\n",
    "\n",
    "        file_exists = os.path.exists(f'{path}/results.csv')\n",
    "        \n",
    "        with open(f'{path}/results.csv', 'a') as f:\n",
    "            headers = output.keys()\n",
    "            writer = csv.DictWriter(f, delimiter=',', lineterminator='\\n', fieldnames=headers)\n",
    "            if not file_exists:\n",
    "                writer.writeheader()\n",
    "            writer.writerow(output)"
   ]
  }
 ],
 "metadata": {
  "kernelspec": {
   "display_name": "Python 3.7",
   "language": "python",
   "name": "py37"
  },
  "language_info": {
   "codemirror_mode": {
    "name": "ipython",
    "version": 3
   },
   "file_extension": ".py",
   "mimetype": "text/x-python",
   "name": "python",
   "nbconvert_exporter": "python",
   "pygments_lexer": "ipython3",
   "version": "3.7.4"
  }
 },
 "nbformat": 4,
 "nbformat_minor": 5
}
