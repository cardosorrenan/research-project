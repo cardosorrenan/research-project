{
 "cells": [
  {
   "cell_type": "code",
   "execution_count": 1,
   "metadata": {},
   "outputs": [
    {
     "name": "stderr",
     "output_type": "stream",
     "text": [
      "/home/renan/Área de Trabalho/research-project/py37/lib/python3.7/site-packages/pandas/compat/__init__.py:124: UserWarning: Could not import the lzma module. Your installed Python is incomplete. Attempting to use lzma compression will result in a RuntimeError.\n",
      "  warnings.warn(msg)\n"
     ]
    },
    {
     "name": "stdout",
     "output_type": "stream",
     "text": [
      "(33169, 6)\n"
     ]
    },
    {
     "data": {
      "text/html": [
       "<div>\n",
       "<style scoped>\n",
       "    .dataframe tbody tr th:only-of-type {\n",
       "        vertical-align: middle;\n",
       "    }\n",
       "\n",
       "    .dataframe tbody tr th {\n",
       "        vertical-align: top;\n",
       "    }\n",
       "\n",
       "    .dataframe thead th {\n",
       "        text-align: right;\n",
       "    }\n",
       "</style>\n",
       "<table border=\"1\" class=\"dataframe\">\n",
       "  <thead>\n",
       "    <tr style=\"text-align: right;\">\n",
       "      <th></th>\n",
       "      <th>db</th>\n",
       "      <th>filename</th>\n",
       "      <th>diag</th>\n",
       "      <th>total_diags</th>\n",
       "      <th>db_freq</th>\n",
       "      <th>time</th>\n",
       "    </tr>\n",
       "  </thead>\n",
       "  <tbody>\n",
       "    <tr>\n",
       "      <th>0</th>\n",
       "      <td>WFDB_CPSC2018</td>\n",
       "      <td>A4644.mat</td>\n",
       "      <td>SR</td>\n",
       "      <td>1</td>\n",
       "      <td>500</td>\n",
       "      <td>10.0</td>\n",
       "    </tr>\n",
       "    <tr>\n",
       "      <th>1</th>\n",
       "      <td>WFDB_PTBXL</td>\n",
       "      <td>HR15248.mat</td>\n",
       "      <td>SR</td>\n",
       "      <td>1</td>\n",
       "      <td>500</td>\n",
       "      <td>10.0</td>\n",
       "    </tr>\n",
       "    <tr>\n",
       "      <th>2</th>\n",
       "      <td>WFDB_Ga</td>\n",
       "      <td>E02092.mat</td>\n",
       "      <td>SR</td>\n",
       "      <td>1</td>\n",
       "      <td>500</td>\n",
       "      <td>10.0</td>\n",
       "    </tr>\n",
       "    <tr>\n",
       "      <th>3</th>\n",
       "      <td>WFDB_PTBXL</td>\n",
       "      <td>HR18712.mat</td>\n",
       "      <td>SR</td>\n",
       "      <td>5</td>\n",
       "      <td>500</td>\n",
       "      <td>10.0</td>\n",
       "    </tr>\n",
       "    <tr>\n",
       "      <th>4</th>\n",
       "      <td>WFDB_PTBXL</td>\n",
       "      <td>HR21119.mat</td>\n",
       "      <td>AF</td>\n",
       "      <td>4</td>\n",
       "      <td>500</td>\n",
       "      <td>10.0</td>\n",
       "    </tr>\n",
       "  </tbody>\n",
       "</table>\n",
       "</div>"
      ],
      "text/plain": [
       "              db     filename diag  total_diags  db_freq  time\n",
       "0  WFDB_CPSC2018    A4644.mat   SR            1      500  10.0\n",
       "1     WFDB_PTBXL  HR15248.mat   SR            1      500  10.0\n",
       "2        WFDB_Ga   E02092.mat   SR            1      500  10.0\n",
       "3     WFDB_PTBXL  HR18712.mat   SR            5      500  10.0\n",
       "4     WFDB_PTBXL  HR21119.mat   AF            4      500  10.0"
      ]
     },
     "execution_count": 1,
     "metadata": {},
     "output_type": "execute_result"
    }
   ],
   "source": [
    "import os\n",
    "import math\n",
    "\n",
    "import numpy as np\n",
    "import pandas as pd\n",
    "from scipy.io import loadmat\n",
    "from scipy.signal import cheby2, sosfilt, resample\n",
    "from tqdm.notebook import tqdm\n",
    "\n",
    "\n",
    "dohko = pd.read_csv('../workdata/dohko/dohko.csv')\n",
    "print(dohko.shape)\n",
    "dohko.head()"
   ]
  },
  {
   "cell_type": "code",
   "execution_count": 2,
   "metadata": {},
   "outputs": [],
   "source": [
    "n_rows = dohko.shape[1]\n",
    "dohko['data'] = [[] for _ in range(n_rows)]"
   ]
  },
  {
   "cell_type": "code",
   "execution_count": 4,
   "metadata": {},
   "outputs": [
    {
     "data": {
      "application/vnd.jupyter.widget-view+json": {
       "model_id": "6e04d7af9f9a46c186ef45cb045783b7",
       "version_major": 2,
       "version_minor": 0
      },
      "text/plain": [
       "0it [00:00, ?it/s]"
      ]
     },
     "metadata": {},
     "output_type": "display_data"
    }
   ],
   "source": [
    "new_freq = 100\n",
    "\n",
    "for index, row in tqdm(dohko.iterrows()):\n",
    "    db = row['db']\n",
    "    filename = row['filename']\n",
    "    db_freq = row['db_freq']\n",
    "    path = f'../databases/{db}/{filename}'\n",
    "    record_file = loadmat(path)['val']\n",
    "    recording = np.array(record_file, dtype=np.float64)\n",
    "    n_leads, rec_samples = recording.shape \n",
    "    for lead in range(0, n_leads):\n",
    "        sos = cheby2(12, 20, [0.35, 70], 'bandpass', fs=db_freq, output='sos')\n",
    "        recording[lead, :] = sosfilt(sos, recording[lead, :])\n",
    "    rec_time_sec = rec_samples/db_freq\n",
    "    new_rec_sampling = int(rec_time_sec*new_freq)\n",
    "    recording = resample(recording, new_rec_sampling, axis=1)\n",
    "    dohko.at[index, 'data'] = recording"
   ]
  },
  {
   "cell_type": "code",
   "execution_count": 54,
   "metadata": {},
   "outputs": [],
   "source": [
    "for index, row in enumerate(np.array_split(dohko, 10)):\n",
    "    row.to_pickle(f'../workdata/miro/part_{index}.pkl')"
   ]
  },
  {
   "cell_type": "markdown",
   "metadata": {},
   "source": [
    "### Flush RAM"
   ]
  },
  {
   "cell_type": "code",
   "execution_count": null,
   "metadata": {},
   "outputs": [],
   "source": [
    "os._exit(0)"
   ]
  }
 ],
 "metadata": {
  "colab": {
   "collapsed_sections": [],
   "name": "Experiments.ipynb",
   "provenance": []
  },
  "kernelspec": {
   "display_name": "Python 3.7",
   "language": "python",
   "name": "py37"
  },
  "language_info": {
   "codemirror_mode": {
    "name": "ipython",
    "version": 3
   },
   "file_extension": ".py",
   "mimetype": "text/x-python",
   "name": "python",
   "nbconvert_exporter": "python",
   "pygments_lexer": "ipython3",
   "version": "3.7.4"
  }
 },
 "nbformat": 4,
 "nbformat_minor": 1
}
