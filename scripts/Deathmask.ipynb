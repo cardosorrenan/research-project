{
 "cells": [
  {
   "cell_type": "code",
   "execution_count": 1,
   "id": "4824c8a7",
   "metadata": {},
   "outputs": [
    {
     "name": "stderr",
     "output_type": "stream",
     "text": [
      "/home/renan/Área de Trabalho/research-project/py37/lib/python3.7/site-packages/pandas/compat/__init__.py:124: UserWarning: Could not import the lzma module. Your installed Python is incomplete. Attempting to use lzma compression will result in a RuntimeError.\n",
      "  warnings.warn(msg)\n"
     ]
    }
   ],
   "source": [
    "import pandas as pd\n",
    "import seaborn as sns"
   ]
  },
  {
   "cell_type": "markdown",
   "id": "05c801d9",
   "metadata": {},
   "source": [
    "TESTE !"
   ]
  },
  {
   "cell_type": "code",
   "execution_count": 3,
   "id": "0a3e438a",
   "metadata": {},
   "outputs": [
    {
     "data": {
      "text/html": [
       "<div>\n",
       "<style scoped>\n",
       "    .dataframe tbody tr th:only-of-type {\n",
       "        vertical-align: middle;\n",
       "    }\n",
       "\n",
       "    .dataframe tbody tr th {\n",
       "        vertical-align: top;\n",
       "    }\n",
       "\n",
       "    .dataframe thead th {\n",
       "        text-align: right;\n",
       "    }\n",
       "</style>\n",
       "<table border=\"1\" class=\"dataframe\">\n",
       "  <thead>\n",
       "    <tr style=\"text-align: right;\">\n",
       "      <th></th>\n",
       "      <th>40.0</th>\n",
       "      <th>76658437.89716211</th>\n",
       "      <th>9.624817921126443e-07</th>\n",
       "      <th>0.0022183962136081733</th>\n",
       "      <th>123.59876582217882</th>\n",
       "      <th>0.9579582753525031</th>\n",
       "      <th>0.15006456826942882</th>\n",
       "      <th>0</th>\n",
       "      <th>1.0</th>\n",
       "      <th>95.0</th>\n",
       "      <th>Q3000.mat</th>\n",
       "      <th>1000</th>\n",
       "      <th>1250</th>\n",
       "      <th>WFDB_CPSC2018_2</th>\n",
       "      <th>AF</th>\n",
       "      <th>09/05/2022 07:47:18</th>\n",
       "    </tr>\n",
       "  </thead>\n",
       "  <tbody>\n",
       "    <tr>\n",
       "      <th>0</th>\n",
       "      <td>30.0</td>\n",
       "      <td>2.797195e+07</td>\n",
       "      <td>8.480764e-07</td>\n",
       "      <td>0.012504</td>\n",
       "      <td>5.386530</td>\n",
       "      <td>1.078273</td>\n",
       "      <td>0.446419</td>\n",
       "      <td>1</td>\n",
       "      <td>1.0</td>\n",
       "      <td>95.0</td>\n",
       "      <td>JS38372.mat</td>\n",
       "      <td>1750</td>\n",
       "      <td>2000</td>\n",
       "      <td>WFDB_Ningbo</td>\n",
       "      <td>SR</td>\n",
       "      <td>09/05/2022 07:47:23</td>\n",
       "    </tr>\n",
       "    <tr>\n",
       "      <th>1</th>\n",
       "      <td>23.0</td>\n",
       "      <td>3.719682e+08</td>\n",
       "      <td>9.239982e-07</td>\n",
       "      <td>0.039970</td>\n",
       "      <td>9.508236</td>\n",
       "      <td>0.864888</td>\n",
       "      <td>0.575346</td>\n",
       "      <td>2</td>\n",
       "      <td>1.0</td>\n",
       "      <td>95.0</td>\n",
       "      <td>HR20937.mat</td>\n",
       "      <td>1000</td>\n",
       "      <td>1250</td>\n",
       "      <td>WFDB_PTBXL</td>\n",
       "      <td>SR</td>\n",
       "      <td>09/05/2022 07:47:30</td>\n",
       "    </tr>\n",
       "    <tr>\n",
       "      <th>2</th>\n",
       "      <td>38.0</td>\n",
       "      <td>4.534736e+07</td>\n",
       "      <td>4.858286e-07</td>\n",
       "      <td>0.000973</td>\n",
       "      <td>46.740175</td>\n",
       "      <td>1.018014</td>\n",
       "      <td>0.303519</td>\n",
       "      <td>3</td>\n",
       "      <td>1.0</td>\n",
       "      <td>95.0</td>\n",
       "      <td>HR00086.mat</td>\n",
       "      <td>1750</td>\n",
       "      <td>2000</td>\n",
       "      <td>WFDB_PTBXL</td>\n",
       "      <td>SR</td>\n",
       "      <td>09/05/2022 07:47:38</td>\n",
       "    </tr>\n",
       "    <tr>\n",
       "      <th>3</th>\n",
       "      <td>25.0</td>\n",
       "      <td>4.277068e+07</td>\n",
       "      <td>6.941774e-07</td>\n",
       "      <td>0.033624</td>\n",
       "      <td>52.841638</td>\n",
       "      <td>0.673094</td>\n",
       "      <td>0.249886</td>\n",
       "      <td>4</td>\n",
       "      <td>1.0</td>\n",
       "      <td>95.0</td>\n",
       "      <td>JS09370.mat</td>\n",
       "      <td>2000</td>\n",
       "      <td>2250</td>\n",
       "      <td>WFDB_ChapmanShaoxing</td>\n",
       "      <td>AF</td>\n",
       "      <td>09/05/2022 07:47:41</td>\n",
       "    </tr>\n",
       "    <tr>\n",
       "      <th>4</th>\n",
       "      <td>25.0</td>\n",
       "      <td>7.776749e+07</td>\n",
       "      <td>9.522973e-07</td>\n",
       "      <td>0.023214</td>\n",
       "      <td>5.102790</td>\n",
       "      <td>1.013506</td>\n",
       "      <td>0.452273</td>\n",
       "      <td>5</td>\n",
       "      <td>1.0</td>\n",
       "      <td>95.0</td>\n",
       "      <td>HR20163.mat</td>\n",
       "      <td>250</td>\n",
       "      <td>500</td>\n",
       "      <td>WFDB_PTBXL</td>\n",
       "      <td>SR</td>\n",
       "      <td>09/05/2022 07:47:43</td>\n",
       "    </tr>\n",
       "  </tbody>\n",
       "</table>\n",
       "</div>"
      ],
      "text/plain": [
       "   40.0  76658437.89716211  9.624817921126443e-07  0.0022183962136081733  \\\n",
       "0  30.0       2.797195e+07           8.480764e-07               0.012504   \n",
       "1  23.0       3.719682e+08           9.239982e-07               0.039970   \n",
       "2  38.0       4.534736e+07           4.858286e-07               0.000973   \n",
       "3  25.0       4.277068e+07           6.941774e-07               0.033624   \n",
       "4  25.0       7.776749e+07           9.522973e-07               0.023214   \n",
       "\n",
       "   123.59876582217882  0.9579582753525031  0.15006456826942882  0  1.0  95.0  \\\n",
       "0            5.386530            1.078273             0.446419  1  1.0  95.0   \n",
       "1            9.508236            0.864888             0.575346  2  1.0  95.0   \n",
       "2           46.740175            1.018014             0.303519  3  1.0  95.0   \n",
       "3           52.841638            0.673094             0.249886  4  1.0  95.0   \n",
       "4            5.102790            1.013506             0.452273  5  1.0  95.0   \n",
       "\n",
       "     Q3000.mat  1000  1250       WFDB_CPSC2018_2  AF  09/05/2022 07:47:18  \n",
       "0  JS38372.mat  1750  2000           WFDB_Ningbo  SR  09/05/2022 07:47:23  \n",
       "1  HR20937.mat  1000  1250            WFDB_PTBXL  SR  09/05/2022 07:47:30  \n",
       "2  HR00086.mat  1750  2000            WFDB_PTBXL  SR  09/05/2022 07:47:38  \n",
       "3  JS09370.mat  2000  2250  WFDB_ChapmanShaoxing  AF  09/05/2022 07:47:41  \n",
       "4  HR20163.mat   250   500            WFDB_PTBXL  SR  09/05/2022 07:47:43  "
      ]
     },
     "execution_count": 3,
     "metadata": {},
     "output_type": "execute_result"
    }
   ],
   "source": [
    "base_df = pd.read_csv('../workdata/saga/results.csv')\n",
    "base_df.head()"
   ]
  },
  {
   "cell_type": "code",
   "execution_count": 4,
   "id": "98c234fb",
   "metadata": {},
   "outputs": [
    {
     "ename": "KeyError",
     "evalue": "'rank'",
     "output_type": "error",
     "traceback": [
      "\u001b[0;31m---------------------------------------------------------------------------\u001b[0m",
      "\u001b[0;31mKeyError\u001b[0m                                  Traceback (most recent call last)",
      "\u001b[0;32m~/Área de Trabalho/research-project/py37/lib/python3.7/site-packages/pandas/core/indexes/base.py\u001b[0m in \u001b[0;36mget_loc\u001b[0;34m(self, key, method, tolerance)\u001b[0m\n\u001b[1;32m   3360\u001b[0m             \u001b[0;32mtry\u001b[0m\u001b[0;34m:\u001b[0m\u001b[0;34m\u001b[0m\u001b[0;34m\u001b[0m\u001b[0m\n\u001b[0;32m-> 3361\u001b[0;31m                 \u001b[0;32mreturn\u001b[0m \u001b[0mself\u001b[0m\u001b[0;34m.\u001b[0m\u001b[0m_engine\u001b[0m\u001b[0;34m.\u001b[0m\u001b[0mget_loc\u001b[0m\u001b[0;34m(\u001b[0m\u001b[0mcasted_key\u001b[0m\u001b[0;34m)\u001b[0m\u001b[0;34m\u001b[0m\u001b[0;34m\u001b[0m\u001b[0m\n\u001b[0m\u001b[1;32m   3362\u001b[0m             \u001b[0;32mexcept\u001b[0m \u001b[0mKeyError\u001b[0m \u001b[0;32mas\u001b[0m \u001b[0merr\u001b[0m\u001b[0;34m:\u001b[0m\u001b[0;34m\u001b[0m\u001b[0;34m\u001b[0m\u001b[0m\n",
      "\u001b[0;32m~/Área de Trabalho/research-project/py37/lib/python3.7/site-packages/pandas/_libs/index.pyx\u001b[0m in \u001b[0;36mpandas._libs.index.IndexEngine.get_loc\u001b[0;34m()\u001b[0m\n",
      "\u001b[0;32m~/Área de Trabalho/research-project/py37/lib/python3.7/site-packages/pandas/_libs/index.pyx\u001b[0m in \u001b[0;36mpandas._libs.index.IndexEngine.get_loc\u001b[0;34m()\u001b[0m\n",
      "\u001b[0;32mpandas/_libs/hashtable_class_helper.pxi\u001b[0m in \u001b[0;36mpandas._libs.hashtable.PyObjectHashTable.get_item\u001b[0;34m()\u001b[0m\n",
      "\u001b[0;32mpandas/_libs/hashtable_class_helper.pxi\u001b[0m in \u001b[0;36mpandas._libs.hashtable.PyObjectHashTable.get_item\u001b[0;34m()\u001b[0m\n",
      "\u001b[0;31mKeyError\u001b[0m: 'rank'",
      "\nThe above exception was the direct cause of the following exception:\n",
      "\u001b[0;31mKeyError\u001b[0m                                  Traceback (most recent call last)",
      "\u001b[0;32m/tmp/ipykernel_247902/837705995.py\u001b[0m in \u001b[0;36m<module>\u001b[0;34m\u001b[0m\n\u001b[0;32m----> 1\u001b[0;31m \u001b[0mdf_r6\u001b[0m \u001b[0;34m=\u001b[0m \u001b[0mbase_df\u001b[0m\u001b[0;34m[\u001b[0m\u001b[0mbase_df\u001b[0m\u001b[0;34m[\u001b[0m\u001b[0;34m'rank'\u001b[0m\u001b[0;34m]\u001b[0m \u001b[0;34m==\u001b[0m \u001b[0;36m6\u001b[0m\u001b[0;34m]\u001b[0m\u001b[0;34m\u001b[0m\u001b[0;34m\u001b[0m\u001b[0m\n\u001b[0m\u001b[1;32m      2\u001b[0m \u001b[0mdf_r6_af\u001b[0m \u001b[0;34m=\u001b[0m \u001b[0mdf_r6\u001b[0m\u001b[0;34m[\u001b[0m\u001b[0mdf_r6\u001b[0m\u001b[0;34m[\u001b[0m\u001b[0;34m'diagnostic'\u001b[0m\u001b[0;34m]\u001b[0m \u001b[0;34m==\u001b[0m \u001b[0;34m'AF'\u001b[0m\u001b[0;34m]\u001b[0m\u001b[0;34m\u001b[0m\u001b[0;34m\u001b[0m\u001b[0m\n\u001b[1;32m      3\u001b[0m \u001b[0mdf_r6_sr\u001b[0m \u001b[0;34m=\u001b[0m \u001b[0mdf_r6\u001b[0m\u001b[0;34m[\u001b[0m\u001b[0mdf_r6\u001b[0m\u001b[0;34m[\u001b[0m\u001b[0;34m'diagnostic'\u001b[0m\u001b[0;34m]\u001b[0m \u001b[0;34m==\u001b[0m \u001b[0;34m'SR'\u001b[0m\u001b[0;34m]\u001b[0m\u001b[0;34m\u001b[0m\u001b[0;34m\u001b[0m\u001b[0m\n",
      "\u001b[0;32m~/Área de Trabalho/research-project/py37/lib/python3.7/site-packages/pandas/core/frame.py\u001b[0m in \u001b[0;36m__getitem__\u001b[0;34m(self, key)\u001b[0m\n\u001b[1;32m   3456\u001b[0m             \u001b[0;32mif\u001b[0m \u001b[0mself\u001b[0m\u001b[0;34m.\u001b[0m\u001b[0mcolumns\u001b[0m\u001b[0;34m.\u001b[0m\u001b[0mnlevels\u001b[0m \u001b[0;34m>\u001b[0m \u001b[0;36m1\u001b[0m\u001b[0;34m:\u001b[0m\u001b[0;34m\u001b[0m\u001b[0;34m\u001b[0m\u001b[0m\n\u001b[1;32m   3457\u001b[0m                 \u001b[0;32mreturn\u001b[0m \u001b[0mself\u001b[0m\u001b[0;34m.\u001b[0m\u001b[0m_getitem_multilevel\u001b[0m\u001b[0;34m(\u001b[0m\u001b[0mkey\u001b[0m\u001b[0;34m)\u001b[0m\u001b[0;34m\u001b[0m\u001b[0;34m\u001b[0m\u001b[0m\n\u001b[0;32m-> 3458\u001b[0;31m             \u001b[0mindexer\u001b[0m \u001b[0;34m=\u001b[0m \u001b[0mself\u001b[0m\u001b[0;34m.\u001b[0m\u001b[0mcolumns\u001b[0m\u001b[0;34m.\u001b[0m\u001b[0mget_loc\u001b[0m\u001b[0;34m(\u001b[0m\u001b[0mkey\u001b[0m\u001b[0;34m)\u001b[0m\u001b[0;34m\u001b[0m\u001b[0;34m\u001b[0m\u001b[0m\n\u001b[0m\u001b[1;32m   3459\u001b[0m             \u001b[0;32mif\u001b[0m \u001b[0mis_integer\u001b[0m\u001b[0;34m(\u001b[0m\u001b[0mindexer\u001b[0m\u001b[0;34m)\u001b[0m\u001b[0;34m:\u001b[0m\u001b[0;34m\u001b[0m\u001b[0;34m\u001b[0m\u001b[0m\n\u001b[1;32m   3460\u001b[0m                 \u001b[0mindexer\u001b[0m \u001b[0;34m=\u001b[0m \u001b[0;34m[\u001b[0m\u001b[0mindexer\u001b[0m\u001b[0;34m]\u001b[0m\u001b[0;34m\u001b[0m\u001b[0;34m\u001b[0m\u001b[0m\n",
      "\u001b[0;32m~/Área de Trabalho/research-project/py37/lib/python3.7/site-packages/pandas/core/indexes/base.py\u001b[0m in \u001b[0;36mget_loc\u001b[0;34m(self, key, method, tolerance)\u001b[0m\n\u001b[1;32m   3361\u001b[0m                 \u001b[0;32mreturn\u001b[0m \u001b[0mself\u001b[0m\u001b[0;34m.\u001b[0m\u001b[0m_engine\u001b[0m\u001b[0;34m.\u001b[0m\u001b[0mget_loc\u001b[0m\u001b[0;34m(\u001b[0m\u001b[0mcasted_key\u001b[0m\u001b[0;34m)\u001b[0m\u001b[0;34m\u001b[0m\u001b[0;34m\u001b[0m\u001b[0m\n\u001b[1;32m   3362\u001b[0m             \u001b[0;32mexcept\u001b[0m \u001b[0mKeyError\u001b[0m \u001b[0;32mas\u001b[0m \u001b[0merr\u001b[0m\u001b[0;34m:\u001b[0m\u001b[0;34m\u001b[0m\u001b[0;34m\u001b[0m\u001b[0m\n\u001b[0;32m-> 3363\u001b[0;31m                 \u001b[0;32mraise\u001b[0m \u001b[0mKeyError\u001b[0m\u001b[0;34m(\u001b[0m\u001b[0mkey\u001b[0m\u001b[0;34m)\u001b[0m \u001b[0;32mfrom\u001b[0m \u001b[0merr\u001b[0m\u001b[0;34m\u001b[0m\u001b[0;34m\u001b[0m\u001b[0m\n\u001b[0m\u001b[1;32m   3364\u001b[0m \u001b[0;34m\u001b[0m\u001b[0m\n\u001b[1;32m   3365\u001b[0m         \u001b[0;32mif\u001b[0m \u001b[0mis_scalar\u001b[0m\u001b[0;34m(\u001b[0m\u001b[0mkey\u001b[0m\u001b[0;34m)\u001b[0m \u001b[0;32mand\u001b[0m \u001b[0misna\u001b[0m\u001b[0;34m(\u001b[0m\u001b[0mkey\u001b[0m\u001b[0;34m)\u001b[0m \u001b[0;32mand\u001b[0m \u001b[0;32mnot\u001b[0m \u001b[0mself\u001b[0m\u001b[0;34m.\u001b[0m\u001b[0mhasnans\u001b[0m\u001b[0;34m:\u001b[0m\u001b[0;34m\u001b[0m\u001b[0;34m\u001b[0m\u001b[0m\n",
      "\u001b[0;31mKeyError\u001b[0m: 'rank'"
     ]
    }
   ],
   "source": [
    "df_r6 = base_df[base_df['rank'] == 6]\n",
    "df_r6_af = df_r6[df_r6['diagnostic'] == 'AF']\n",
    "df_r6_sr = df_r6[df_r6['diagnostic'] == 'SR']"
   ]
  },
  {
   "cell_type": "markdown",
   "id": "b47e8c76",
   "metadata": {},
   "source": [
    "sns.histplot(data=df_r6_sr, x=\"fval\", color='blue', bins=20)\n",
    "sns.histplot(data=df_r6_af, x=\"fval\", color='red', bins=20)"
   ]
  },
  {
   "cell_type": "code",
   "execution_count": 109,
   "id": "49c8226f",
   "metadata": {},
   "outputs": [
    {
     "data": {
      "text/plain": [
       "<AxesSubplot:xlabel='relerr', ylabel='Count'>"
      ]
     },
     "execution_count": 109,
     "metadata": {},
     "output_type": "execute_result"
    },
    {
     "data": {
      "image/png": "[encoded data removed]",
      "text/plain": [
       "<Figure size 432x288 with 1 Axes>"
      ]
     },
     "metadata": {
      "needs_background": "light"
     },
     "output_type": "display_data"
    }
   ],
   "source": [
    "sns.histplot(data=df_r6_sr, x=\"relerr\", color='blue', bins=20)\n",
    "sns.histplot(data=df_r6_af, x=\"relerr\", color='red', bins=20)"
   ]
  },
  {
   "cell_type": "code",
   "execution_count": 110,
   "id": "fa26defc",
   "metadata": {},
   "outputs": [
    {
     "data": {
      "text/plain": [
       "<AxesSubplot:xlabel='fval', ylabel='relerr'>"
      ]
     },
     "execution_count": 110,
     "metadata": {},
     "output_type": "execute_result"
    },
    {
     "data": {
      "image/png": "[encoded data removed]",
      "text/plain": [
       "<Figure size 432x288 with 1 Axes>"
      ]
     },
     "metadata": {
      "needs_background": "light"
     },
     "output_type": "display_data"
    }
   ],
   "source": [
    "sns.scatterplot(x=\"fval\", y=\"relerr\", color='red', data=df_r6_sr)\n",
    "sns.scatterplot(x=\"fval\", y=\"relerr\", color='blue', data=df_r6_af)"
   ]
  },
  {
   "cell_type": "code",
   "execution_count": 112,
   "id": "82770eb0",
   "metadata": {},
   "outputs": [
    {
     "data": {
      "text/plain": [
       "<AxesSubplot:xlabel='relerr', ylabel='delta'>"
      ]
     },
     "execution_count": 112,
     "metadata": {},
     "output_type": "execute_result"
    },
    {
     "data": {
      "image/png": "[encoded data removed]",
      "text/plain": [
       "<Figure size 432x288 with 1 Axes>"
      ]
     },
     "metadata": {
      "needs_background": "light"
     },
     "output_type": "display_data"
    }
   ],
   "source": [
    "sns.scatterplot(x=\"relerr\", y=\"delta\", color='red', data=df_r6_sr)\n",
    "sns.scatterplot(x=\"relerr\", y=\"delta\", color='blue', data=df_r6_af)"
   ]
  },
  {
   "cell_type": "code",
   "execution_count": null,
   "id": "435ba3b3",
   "metadata": {},
   "outputs": [],
   "source": [
    "ns.pairplot(features, hue=\"diagnostic\")"
   ]
  }
 ],
 "metadata": {
  "kernelspec": {
   "display_name": "Python 3.7",
   "language": "python",
   "name": "py37"
  },
  "language_info": {
   "codemirror_mode": {
    "name": "ipython",
    "version": 3
   },
   "file_extension": ".py",
   "mimetype": "text/x-python",
   "name": "python",
   "nbconvert_exporter": "python",
   "pygments_lexer": "ipython3",
   "version": "3.7.4"
  }
 },
 "nbformat": 4,
 "nbformat_minor": 5
}
