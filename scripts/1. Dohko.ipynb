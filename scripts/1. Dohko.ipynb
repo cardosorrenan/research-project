{
 "cells": [
  {
   "cell_type": "code",
   "execution_count": 1,
   "metadata": {},
   "outputs": [
    {
     "name": "stderr",
     "output_type": "stream",
     "text": [
      "/home/renan/Área de Trabalho/research-project/py37/lib/python3.7/site-packages/pandas/compat/__init__.py:124: UserWarning: Could not import the lzma module. Your installed Python is incomplete. Attempting to use lzma compression will result in a RuntimeError.\n",
      "  warnings.warn(msg)\n"
     ]
    },
    {
     "data": {
      "text/plain": [
       "['WFDB_Ga',\n",
       " 'WFDB_StPetersburg',\n",
       " 'WFDB_PTB',\n",
       " 'WFDB_Ningbo',\n",
       " 'WFDB_CPSC2018_2',\n",
       " 'WFDB_CPSC2018',\n",
       " 'WFDB_PTBXL',\n",
       " 'WFDB_ChapmanShaoxing']"
      ]
     },
     "execution_count": 1,
     "metadata": {},
     "output_type": "execute_result"
    }
   ],
   "source": [
    "import os\n",
    "\n",
    "import numpy as np\n",
    "import pandas as pd\n",
    "from scipy.io import loadmat\n",
    "\n",
    "diags = [\n",
    "    { \n",
    "        'desc': 'Atrial Fibrilation', \n",
    "        'diag': 'AF', \n",
    "        'code': '164889003' \n",
    "    },\n",
    "    {\n",
    "        'desc': 'Sinus Rhythm',\n",
    "        'diag': 'SR',\n",
    "        'code': '426783006'\n",
    "    }\n",
    "]\n",
    "diags_code = np.array(list(map(lambda x: x['code'], diags)))\n",
    "path_folder = '../databases/'\n",
    "available_databases = os.listdir(path_folder)\n",
    "available_databases.remove('.gitkeep')\n",
    "available_databases"
   ]
  },
  {
   "cell_type": "code",
   "execution_count": 13,
   "metadata": {},
   "outputs": [
    {
     "name": "stdout",
     "output_type": "stream",
     "text": [
      "2322 ../databases/WFDB_Ga/\n",
      "2324 ../databases/WFDB_StPetersburg/\n",
      "2419 ../databases/WFDB_PTB/\n",
      "8718 ../databases/WFDB_Ningbo/\n",
      "8875 ../databases/WFDB_CPSC2018_2/\n",
      "11014 ../databases/WFDB_CPSC2018/\n",
      "30546 ../databases/WFDB_PTBXL/\n",
      "33169 ../databases/WFDB_ChapmanShaoxing/\n"
     ]
    }
   ],
   "source": [
    "recordings = []\n",
    "\n",
    "for path in available_databases:\n",
    "    path = f'../databases/{path}/'\n",
    "    headers = list(filter(lambda x: os.path.splitext(x)[1] == '.hea', \n",
    "                          sorted(os.listdir(path))))  \n",
    "    hea_file = open(path + headers[0]).read()\n",
    "    freq = int(hea_file.split('\\n')[0].split(' ')[2])\n",
    "           \n",
    "    for filename in headers:\n",
    "        filename, extension = os.path.splitext(filename)\n",
    "        record_path = path + filename + '.mat'\n",
    "        header_path = path + filename + '.hea'\n",
    "        \n",
    "        if (not os.path.isfile(record_path) or \n",
    "            not os.path.isfile(header_path)):\n",
    "            continue\n",
    "            \n",
    "        header_file = open(header_path, 'r').read()\n",
    "        \n",
    "        rec_diags = []\n",
    "        for row in header_file.split('\\n'):\n",
    "            if not row.startswith('#Dx'):\n",
    "                continue\n",
    "            entries = row.split(': ')[1].split(',')\n",
    "            for entry in entries:\n",
    "                rec_diags.append(entry.strip())\n",
    "\n",
    "        rec_diags = np.array(rec_diags)\n",
    "        diags_code = np.array(diags_code)\n",
    "        intersec = np.intersect1d(rec_diags, diags_code)\n",
    "        \n",
    "        # if not intersec.size == 1 and rec_diags == 1:\n",
    "        if not intersec.size == 1:\n",
    "            '''\n",
    "             0 - not found diag\n",
    "             1 - found only one diag in diags\n",
    "             2 - found two in diags? af and sr\n",
    "            '''\n",
    "            continue\n",
    "            \n",
    "        leads, sampling = loadmat(record_path)['val'].shape\n",
    "        \n",
    "        if int(leads) != 12:\n",
    "            continue\n",
    "        \n",
    "        database = record_path.split('/')[-2]\n",
    "        filename = record_path.split('/')[-1]\n",
    "        diagnose = list(filter(lambda x: x['code'] == intersec[0], diags))[0]['diag']\n",
    "        total_diags = int(rec_diags.size)\n",
    "        time = float(sampling/freq)\n",
    "        \n",
    "        recordings.append([database, \n",
    "                           filename, \n",
    "                           diagnose, \n",
    "                           total_diags, \n",
    "                           freq,\n",
    "                           time])\n",
    "    print(len(recordings), path)"
   ]
  },
  {
   "cell_type": "code",
   "execution_count": 14,
   "metadata": {},
   "outputs": [
    {
     "name": "stdout",
     "output_type": "stream",
     "text": [
      "(33169, 6)\n"
     ]
    }
   ],
   "source": [
    "df = pd.DataFrame(recordings, columns=['db', \n",
    "                                       'filename', \n",
    "                                       'diag', \n",
    "                                       'total_diags', \n",
    "                                       'db_freq',\n",
    "                                       'time'])\n",
    "df.head()\n",
    "print(df.shape)"
   ]
  },
  {
   "cell_type": "code",
   "execution_count": 15,
   "metadata": {},
   "outputs": [
    {
     "data": {
      "text/html": [
       "<div>\n",
       "<style scoped>\n",
       "    .dataframe tbody tr th:only-of-type {\n",
       "        vertical-align: middle;\n",
       "    }\n",
       "\n",
       "    .dataframe tbody tr th {\n",
       "        vertical-align: top;\n",
       "    }\n",
       "\n",
       "    .dataframe thead th {\n",
       "        text-align: right;\n",
       "    }\n",
       "</style>\n",
       "<table border=\"1\" class=\"dataframe\">\n",
       "  <thead>\n",
       "    <tr style=\"text-align: right;\">\n",
       "      <th></th>\n",
       "      <th>db</th>\n",
       "      <th>filename</th>\n",
       "      <th>diag</th>\n",
       "      <th>total_diags</th>\n",
       "      <th>db_freq</th>\n",
       "      <th>time</th>\n",
       "    </tr>\n",
       "  </thead>\n",
       "  <tbody>\n",
       "    <tr>\n",
       "      <th>0</th>\n",
       "      <td>WFDB_CPSC2018</td>\n",
       "      <td>A4644.mat</td>\n",
       "      <td>SR</td>\n",
       "      <td>1</td>\n",
       "      <td>500</td>\n",
       "      <td>10.0</td>\n",
       "    </tr>\n",
       "    <tr>\n",
       "      <th>1</th>\n",
       "      <td>WFDB_PTBXL</td>\n",
       "      <td>HR15248.mat</td>\n",
       "      <td>SR</td>\n",
       "      <td>1</td>\n",
       "      <td>500</td>\n",
       "      <td>10.0</td>\n",
       "    </tr>\n",
       "    <tr>\n",
       "      <th>2</th>\n",
       "      <td>WFDB_Ga</td>\n",
       "      <td>E02092.mat</td>\n",
       "      <td>SR</td>\n",
       "      <td>1</td>\n",
       "      <td>500</td>\n",
       "      <td>10.0</td>\n",
       "    </tr>\n",
       "    <tr>\n",
       "      <th>3</th>\n",
       "      <td>WFDB_PTBXL</td>\n",
       "      <td>HR18712.mat</td>\n",
       "      <td>SR</td>\n",
       "      <td>5</td>\n",
       "      <td>500</td>\n",
       "      <td>10.0</td>\n",
       "    </tr>\n",
       "    <tr>\n",
       "      <th>4</th>\n",
       "      <td>WFDB_PTBXL</td>\n",
       "      <td>HR21119.mat</td>\n",
       "      <td>AF</td>\n",
       "      <td>4</td>\n",
       "      <td>500</td>\n",
       "      <td>10.0</td>\n",
       "    </tr>\n",
       "  </tbody>\n",
       "</table>\n",
       "</div>"
      ],
      "text/plain": [
       "              db     filename diag  total_diags  db_freq  time\n",
       "0  WFDB_CPSC2018    A4644.mat   SR            1      500  10.0\n",
       "1     WFDB_PTBXL  HR15248.mat   SR            1      500  10.0\n",
       "2        WFDB_Ga   E02092.mat   SR            1      500  10.0\n",
       "3     WFDB_PTBXL  HR18712.mat   SR            5      500  10.0\n",
       "4     WFDB_PTBXL  HR21119.mat   AF            4      500  10.0"
      ]
     },
     "execution_count": 15,
     "metadata": {},
     "output_type": "execute_result"
    }
   ],
   "source": [
    "df = df.sample(frac=1, ignore_index=True, random_state=32)\n",
    "df.head()"
   ]
  },
  {
   "cell_type": "code",
   "execution_count": 16,
   "metadata": {},
   "outputs": [
    {
     "name": "stdout",
     "output_type": "stream",
     "text": [
      "AF: 4711 rows\n",
      "SR: 28458 rows\n"
     ]
    },
    {
     "data": {
      "text/plain": [
       "diag  db                  \n",
       "AF    WFDB_CPSC2018            1221\n",
       "      WFDB_CPSC2018_2           153\n",
       "      WFDB_ChapmanShaoxing     1273\n",
       "      WFDB_Ga                   570\n",
       "      WFDB_PTB                   15\n",
       "      WFDB_PTBXL               1477\n",
       "      WFDB_StPetersburg           2\n",
       "SR    WFDB_CPSC2018             918\n",
       "      WFDB_CPSC2018_2             4\n",
       "      WFDB_ChapmanShaoxing     1350\n",
       "      WFDB_Ga                  1752\n",
       "      WFDB_Ningbo              6299\n",
       "      WFDB_PTB                   80\n",
       "      WFDB_PTBXL              18055\n",
       "dtype: int64"
      ]
     },
     "execution_count": 16,
     "metadata": {},
     "output_type": "execute_result"
    }
   ],
   "source": [
    "print(f\"AF: {str(df[df.diag == 'AF'].shape[0])} rows\")\n",
    "print(f\"SR: {str(df[df.diag == 'SR'].shape[0])} rows\")\n",
    "df.groupby(['diag', 'db']).size()"
   ]
  },
  {
   "cell_type": "code",
   "execution_count": 18,
   "metadata": {},
   "outputs": [],
   "source": [
    "df.to_csv('../workdata/dohko/dohko.csv', index=False)"
   ]
  }
 ],
 "metadata": {
  "colab": {
   "collapsed_sections": [],
   "name": "Experiments.ipynb",
   "provenance": []
  },
  "kernelspec": {
   "display_name": "Python 3.7",
   "language": "python",
   "name": "py37"
  },
  "language_info": {
   "codemirror_mode": {
    "name": "ipython",
    "version": 3
   },
   "file_extension": ".py",
   "mimetype": "text/x-python",
   "name": "python",
   "nbconvert_exporter": "python",
   "pygments_lexer": "ipython3",
   "version": "3.7.4"
  }
 },
 "nbformat": 4,
 "nbformat_minor": 1
}
