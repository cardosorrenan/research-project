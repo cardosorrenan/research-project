{
 "cells": [
  {
   "cell_type": "code",
   "execution_count": 1,
   "id": "8f06ba20",
   "metadata": {},
   "outputs": [
    {
     "name": "stderr",
     "output_type": "stream",
     "text": [
      "/home/renan/Área de Trabalho/research-project/py37/lib/python3.7/site-packages/pandas/compat/__init__.py:124: UserWarning: Could not import the lzma module. Your installed Python is incomplete. Attempting to use lzma compression will result in a RuntimeError.\n",
      "  warnings.warn(msg)\n"
     ]
    }
   ],
   "source": [
    "import os\n",
    "\n",
    "import pandas as pd\n",
    "import numpy as np\n",
    "import matplotlib.pyplot as plt\n",
    "import neurokit2 as nk\n",
    "import seaborn as sns"
   ]
  },
  {
   "cell_type": "code",
   "execution_count": 2,
   "id": "1b545b59",
   "metadata": {},
   "outputs": [
    {
     "data": {
      "text/plain": [
       "diag  db                  \n",
       "AF    WFDB_CPSC2018           5\n",
       "      WFDB_CPSC2018_2         5\n",
       "      WFDB_ChapmanShaoxing    5\n",
       "      WFDB_Ga                 5\n",
       "      WFDB_PTB                3\n",
       "      WFDB_PTBXL              5\n",
       "SR    WFDB_CPSC2018           5\n",
       "      WFDB_ChapmanShaoxing    5\n",
       "      WFDB_Ga                 5\n",
       "      WFDB_Ningbo             5\n",
       "      WFDB_PTB                4\n",
       "      WFDB_PTBXL              5\n",
       "dtype: int64"
      ]
     },
     "execution_count": 2,
     "metadata": {},
     "output_type": "execute_result"
    }
   ],
   "source": [
    "df = pd.read_pickle(f'../workdata/miro/part_4.pkl')\n",
    "df = df.groupby(['diag', 'db']).head(5)\n",
    "df.groupby(['diag', 'db']).size()"
   ]
  },
  {
   "cell_type": "code",
   "execution_count": 27,
   "id": "4970a4b6",
   "metadata": {},
   "outputs": [
    {
     "data": {
      "text/plain": [
       "<Figure size 1800x1080 with 0 Axes>"
      ]
     },
     "metadata": {},
     "output_type": "display_data"
    }
   ],
   "source": [
    "leads = ('I', 'II', 'III', 'aVR', 'aVL', 'aVF', 'V1', 'V2', 'V3', 'V4', 'V5', 'V6')\n",
    "sns.set(rc={'figure.figsize':(11.7,8.27)})\n",
    "df2 = pd.DataFrame(columns=['diag', 'data'])\n",
    "\n",
    "if not os.path.exists(f'../workdata/aioros/SR/'):\n",
    "    os.makedirs(f'../workdata/aioros/SR/')\n",
    "    \n",
    "if not os.path.exists(f'../workdata/aioros/AF/'):\n",
    "    os.makedirs(f'../workdata/aioros/AF/')\n",
    "\n",
    "for i, row in df.iterrows():\n",
    "    try:\n",
    "        ecg_signal = row['data'][-2] # V5\n",
    "        _, rpeaks = nk.ecg_peaks(ecg_signal, sampling_rate=100)\n",
    "        ecg_r_peaks = rpeaks['ECG_R_Peaks']\n",
    "        ecg_r_peaks = list(map(lambda x: x - 20, ecg_r_peaks))\n",
    "        middle_signal = int(len(ecg_r_peaks)/2)\n",
    "        boundies = ecg_r_peaks[middle_signal:middle_signal+2]\n",
    "        diag = row[\"diag\"]\n",
    "        new_row = {\n",
    "            'diag': diag,\n",
    "            'data': row['data'][:, boundies[0]:boundies[1]]\n",
    "        }\n",
    "\n",
    "        if not os.path.exists(f'../workdata/aioros/{diag}/sample_{i}/'):\n",
    "            os.makedirs(f'../workdata/aioros/{diag}/sample_{i}/')\n",
    "\n",
    "        plot = sns.lineplot(\n",
    "            x=np.arange(0, len(ecg_signal), 1, dtype=int),\n",
    "            y=ecg_signal)\n",
    "        plot.axvline(boundies[0], color='red')\n",
    "        plot.axvline(boundies[1], color='red')\n",
    "        fig = plot.get_figure()\n",
    "        fig.set_size_inches(25,15)\n",
    "        fig.savefig(f\"../workdata/aioros/{diag}/sample_{i}/sample_v5.png\", facecolor='white', transparent=False, dpi=300) \n",
    "        fig.clf()\n",
    "\n",
    "        for j, lead in enumerate(leads):\n",
    "            plot = sns.lineplot(\n",
    "                x=np.arange(0, boundies[1]-boundies[0], 1, dtype=int), \n",
    "                y=new_row['data'][j])\n",
    "            fig = plot.get_figure()\n",
    "            fig.savefig(f\"../workdata/aioros/{diag}/sample_{i}/lead_{lead}.png\", facecolor='white', transparent=False, dpi=300) \n",
    "            fig.clf()\n",
    "            df2 = df2.append(new_row, ignore_index=True)\n",
    "    except Exception as e:\n",
    "        print(e)"
   ]
  }
 ],
 "metadata": {
  "kernelspec": {
   "display_name": "Python 3.7",
   "language": "python",
   "name": "py37"
  },
  "language_info": {
   "codemirror_mode": {
    "name": "ipython",
    "version": 3
   },
   "file_extension": ".py",
   "mimetype": "text/x-python",
   "name": "python",
   "nbconvert_exporter": "python",
   "pygments_lexer": "ipython3",
   "version": "3.7.4"
  }
 },
 "nbformat": 4,
 "nbformat_minor": 5
}
