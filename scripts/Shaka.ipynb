{
 "cells": [
  {
   "cell_type": "code",
   "execution_count": 2,
   "id": "4824c8a7",
   "metadata": {},
   "outputs": [
    {
     "name": "stderr",
     "output_type": "stream",
     "text": [
      "/home/renan/Área de Trabalho/research-project/py37/lib/python3.7/site-packages/pandas/compat/__init__.py:124: UserWarning: Could not import the lzma module. Your installed Python is incomplete. Attempting to use lzma compression will result in a RuntimeError.\n",
      "  warnings.warn(msg)\n"
     ]
    }
   ],
   "source": [
    "import pandas as pd"
   ]
  },
  {
   "cell_type": "code",
   "execution_count": 9,
   "id": "0a3e438a",
   "metadata": {},
   "outputs": [],
   "source": [
    "base_df = pd.read_csv('../workdata/aioria/9. 07-06/results.csv')\n",
    "df = base_df[['total', 'diag']]"
   ]
  },
  {
   "cell_type": "code",
   "execution_count": 12,
   "id": "7146bb61",
   "metadata": {},
   "outputs": [
    {
     "data": {
      "text/plain": [
       "diag  total\n",
       "AF    0        30\n",
       "      1         7\n",
       "      2         3\n",
       "      3         5\n",
       "      4         4\n",
       "      5         1\n",
       "SR    0        36\n",
       "      1        11\n",
       "      2         5\n",
       "      3         7\n",
       "      4         1\n",
       "dtype: int64"
      ]
     },
     "execution_count": 12,
     "metadata": {},
     "output_type": "execute_result"
    }
   ],
   "source": [
    "df.groupby(['diag', 'total']).size()"
   ]
  }
 ],
 "metadata": {
  "kernelspec": {
   "display_name": "Python 3.7",
   "language": "python",
   "name": "py37"
  },
  "language_info": {
   "codemirror_mode": {
    "name": "ipython",
    "version": 3
   },
   "file_extension": ".py",
   "mimetype": "text/x-python",
   "name": "python",
   "nbconvert_exporter": "python",
   "pygments_lexer": "ipython3",
   "version": "3.7.4"
  }
 },
 "nbformat": 4,
 "nbformat_minor": 5
}
