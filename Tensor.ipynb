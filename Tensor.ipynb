{
 "cells": [
  {
   "cell_type": "code",
   "execution_count": null,
   "id": "4824c8a7",
   "metadata": {},
   "outputs": [],
   "source": [
    "import os     \n",
    "os.environ[\"LD_LIBRARY_PATH\"] = \"/home/renan/MATLAB/R2021b/runtime/glnxa64\""
   ]
  },
  {
   "cell_type": "code",
   "execution_count": null,
   "id": "ee90cac2",
   "metadata": {},
   "outputs": [],
   "source": [
    "import ecgBtd1vt\n",
    "import matlab\n",
    "from random import randint\n",
    "\n",
    "recording = DiagnosticDatabase.databases[0].recordings_diag[0]\n",
    "recording = recording.tolist()\n",
    "\n",
    "RIn = matlab.double([12.0], size=(1, 1))\n",
    "multirankIn = matlab.double([95.0, 95.0, 1.0], size=(1, 3))\n",
    "recordingIn = matlab.double(recording, size=(12, 250))\n",
    "\n",
    "my_ecgBtd1v = ecgBtd1vt.initialize()\n",
    "sourcesOut = my_ecgBtd1v.BTD(RIn, multirankIn, recordingIn)\n",
    "my_ecgBtd1v.terminate()\n",
    "\n",
    "sources = np.asarray(sourcesOut)\n",
    "ecg_plot.plot(sources, sample_rate=250, title='')\n",
    "ecg_plot.show()"
   ]
  }
 ],
 "metadata": {
  "kernelspec": {
   "display_name": "Python 3.7",
   "language": "python",
   "name": "py37"
  },
  "language_info": {
   "codemirror_mode": {
    "name": "ipython",
    "version": 3
   },
   "file_extension": ".py",
   "mimetype": "text/x-python",
   "name": "python",
   "nbconvert_exporter": "python",
   "pygments_lexer": "ipython3",
   "version": "3.7.12"
  }
 },
 "nbformat": 4,
 "nbformat_minor": 5
}
