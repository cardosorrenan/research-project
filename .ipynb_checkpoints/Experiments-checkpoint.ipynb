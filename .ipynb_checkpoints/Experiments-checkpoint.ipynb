{
 "cells": [
  {
   "cell_type": "markdown",
   "metadata": {
    "id": "r4Bv11jqNB_t"
   },
   "source": [
    "### **Install and import packages**"
   ]
  },
  {
   "cell_type": "code",
   "execution_count": 58,
   "metadata": {
    "colab": {
     "base_uri": "https://localhost:8080/"
    },
    "id": "KAAvDTEb3cBh",
    "outputId": "04885bf6-b991-443f-ff9b-6019c29d1f24",
    "scrolled": true
   },
   "outputs": [],
   "source": [
    "import os     \n",
    "os.environ[\"LD_LIBRARY_PATH\"] = \"/home/renan/MATLAB/R2021b/runtime/glnxa64\"\n",
    "\n",
    "import tarfile\n",
    "import timeit\n",
    "import random\n",
    "import math\n",
    "import re\n",
    "import itertools\n",
    "import matlab\n",
    "import ecgBtd1vt\n",
    "\n",
    "from operator import itemgetter\n",
    "from scipy.signal import cheby2, resample, sosfilt\n",
    "from scipy import signal\n",
    "from scipy.io import loadmat, savemat\n",
    "from tensorly import tensor as tensor_tly\n",
    "from tensorly import norm, dot\n",
    "from tensorly.decomposition import tucker\n",
    "from tensorly.tucker_tensor import tucker_to_tensor\n",
    "from sklearn.model_selection import train_test_split\n",
    "from tensorflow import keras\n",
    "from tensorflow.keras.activations import relu\n",
    "from tensorflow.keras.models import load_model, Sequential\n",
    "from tensorflow.keras.layers import Dense, Dropout, Conv2D, MaxPooling2D, Flatten, BatchNormalization, Activation\n",
    "from tensorflow.keras.regularizers import l2, l1_l2\n",
    "\n",
    "import numpy as np\n",
    "import pandas as pd\n",
    "import ecg_plot\n",
    "import seaborn as sns\n",
    "import matplotlib.pyplot as plt\n",
    "import logging\n",
    "%matplotlib inline"
   ]
  },
  {
   "cell_type": "code",
   "execution_count": 2,
   "metadata": {},
   "outputs": [],
   "source": [
    "class Database(object):\n",
    "  def __init__(self, path, leads):\n",
    "    self.path = path\n",
    "    self.leads = leads\n",
    "    self.freq = 0\n",
    "    self.headers_path = []\n",
    "    self.recordings_path = []\n",
    "    \n",
    "\n",
    "  def extract_from_drive(self):\n",
    "    if not os.path.exists(self.path):\n",
    "      with tarfile.open(self.path) as zip_file:\n",
    "        zip_file.extractall()\n",
    "    \n",
    "\n",
    "  def load_hea_file(self, i):\n",
    "    with open(self.headers_path[i], 'r') as f:\n",
    "      hea_file = f.read()\n",
    "    return hea_file\n",
    "\n",
    "\n",
    "  def get_frequency(self):\n",
    "    header = self.load_hea_file(0)\n",
    "    for i, l in enumerate(header.split('\\n')):\n",
    "        if i==0:\n",
    "            try:\n",
    "                self.freq = float(l.split(' ')[2])\n",
    "            except:\n",
    "                pass\n",
    "        else:\n",
    "            break\n",
    "    print(f'Frequency: {self.freq}')\n",
    "\n",
    "    \n",
    "\n",
    "  def __str__(self):\n",
    "    return f'Database(folder={self.folder}, path_drive={self.path_drive}, freq={self.freq},  leads={self.leads}, headers_paths={len(self.headers_paths)}, recordings_paths={len(self.recordings_paths)})'\n",
    "\n",
    "\n",
    "  def load_paths(self):\n",
    "    for f in sorted(os.listdir(self.path)):\n",
    "      root, extension = os.path.splitext(f)\n",
    "      if not root.startswith('.') and extension=='.hea':\n",
    "        header_db_file = os.path.join(self.path, root + '.hea')\n",
    "        recording_db_file = os.path.join(self.path, root + '.mat')\n",
    "        if os.path.isfile(header_db_file) and os.path.isfile(recording_db_file):\n",
    "          self.headers_path.append(header_db_file)\n",
    "          self.recordings_path.append(recording_db_file)\n",
    "    print(f'Found {len(self.headers_path)} recordings in {self.path}.')"
   ]
  },
  {
   "cell_type": "code",
   "execution_count": 3,
   "metadata": {},
   "outputs": [],
   "source": [
    "class Diagnostic(object):\n",
    "  diagnostics = []\n",
    "\n",
    "\n",
    "  @classmethod\n",
    "  def append_diagnostic(cls, diagnostic):\n",
    "    cls.diagnostics.append(diagnostic)\n",
    "\n",
    "\n",
    "  @classmethod\n",
    "  def get_diagnostics(cls):\n",
    "    return cls.diagnostics\n",
    "\n",
    "\n",
    "  def __init__(self, diag_name, abbrev, code):\n",
    "    self.name = diag_name\n",
    "    self.abbrev = abbrev\n",
    "    self.code = code"
   ]
  },
  {
   "cell_type": "code",
   "execution_count": 235,
   "metadata": {},
   "outputs": [],
   "source": [
    "class DiagnosticDatabase(object):\n",
    "  databases = []\n",
    "\n",
    "  @classmethod\n",
    "  def append_database(cls, diag_db):\n",
    "    cls.databases.append(diag_db)   \n",
    "\n",
    "    \n",
    "  @classmethod\n",
    "  def get_df_recordings(cls):  \n",
    "    total_recs = []\n",
    "    for diag_db in cls.databases:\n",
    "        recs = [rec.__dict__ for rec in diag_db.recordings_diag]\n",
    "        recs = [dict(rec, diagnostic=diag_db.diagnostic.code) for rec in recs]\n",
    "        total_recs.append(recs)\n",
    "    total_recs = [rec for db in total_recs for rec in db]\n",
    "    dataframe = pd.DataFrame(total_recs)\n",
    "    return dataframe\n",
    "    \n",
    "\n",
    "  def __init__(self, diag_origin, db_origin):\n",
    "    self.diagnostic = diag_origin\n",
    "    self.db = db_origin\n",
    "    self.headers_diag_path = []\n",
    "    self.recordings_diag = []\n",
    "    #self.logger = logger\n",
    "\n",
    "\n",
    "  def get_labels(self, header):\n",
    "    labels = list()\n",
    "    for l in header.split('\\n'):\n",
    "      if l.startswith('#Dx'):\n",
    "        try:\n",
    "          entries = l.split(': ')[1].split(',')\n",
    "          for entry in entries:\n",
    "            labels.append(entry.strip())\n",
    "        except:\n",
    "          pass\n",
    "    return labels\n",
    "\n",
    "\n",
    "  def get_leads(self,header):\n",
    "    leads = list()\n",
    "    for i, l in enumerate(header.split('\\n')):\n",
    "      entries = l.split(' ')\n",
    "      if i==0:\n",
    "        num_leads = int(entries[1])\n",
    "      elif i<=num_leads:\n",
    "        leads.append(entries[-1])\n",
    "      else:\n",
    "        break\n",
    "    return tuple(leads)\n",
    "\n",
    "\n",
    "  def choose_leads(self, recording, header, leads):\n",
    "    num_leads = len(leads)\n",
    "    num_samples = np.shape(recording)[1]\n",
    "    chosen_recording = np.zeros((num_leads, num_samples), recording.dtype)\n",
    "    available_leads = self.get_leads(header)\n",
    "    for i, lead in enumerate(leads):\n",
    "      if lead in available_leads:\n",
    "        j = available_leads.index(lead)\n",
    "        chosen_recording[i, :] = recording[j, :]\n",
    "    return chosen_recording\n",
    "\n",
    "  def plot_ecg(self, index):\n",
    "    ecg_plot.plot(self.rsp_cut_recordings_diag[index]/1000, sample_rate=self.db.freq/2, title='')\n",
    "    ecg_plot.show()"
   ]
  },
  {
   "cell_type": "code",
   "execution_count": 236,
   "metadata": {},
   "outputs": [],
   "source": [
    "class Record():\n",
    "  def __init__(self, path, diagnostic, inf, sup, data):\n",
    "    self.path = path\n",
    "    self.diagnostic = diagnostic\n",
    "    self.inf = inf\n",
    "    self.sup = sup\n",
    "    self.data = data"
   ]
  },
  {
   "cell_type": "markdown",
   "metadata": {
    "id": "AvZcjQmiNfwW"
   },
   "source": [
    "### **Load Data**"
   ]
  },
  {
   "cell_type": "code",
   "execution_count": 237,
   "metadata": {
    "colab": {
     "base_uri": "https://localhost:8080/"
    },
    "id": "QzVMxEyADvRx",
    "outputId": "34f8d11e-f247-4cba-e941-dd192d6d900d"
   },
   "outputs": [
    {
     "name": "stdout",
     "output_type": "stream",
     "text": [
      "Found 6877 recordings in PhysioNet-CinC21/WFDB_CPSC2018.\n",
      "Frequency: 500.0\n",
      " - Found 1221 recordings for AF.\n",
      " - Unattached 18306 intervals.\n",
      " - Found 918 recordings for SR.\n",
      " - Unattached 14116 intervals.\n"
     ]
    }
   ],
   "source": [
    "DiagnosticDatabase.databases = []\n",
    "Diagnostic.diagnostics = []\n",
    "\n",
    "# Define diagnosis\n",
    "af_diag = Diagnostic('Atrial Fibrilation', 'AF', '164889003')\n",
    "sr_diag = Diagnostic('Sinus Rhythm', 'SR', '426783006')\n",
    "Diagnostic.append_diagnostic(af_diag)\n",
    "Diagnostic.append_diagnostic(sr_diag)\n",
    "\n",
    "path_folder = 'PhysioNet-CinC21/'\n",
    "available_databases = os.listdir(path_folder)\n",
    "try:\n",
    "    available_databases.remove('WFDB_PTB.tar.gz')\n",
    "    available_databases.remove('WFDB_StPetersburg.tar.gz')\n",
    "except ValueError:\n",
    "    pass\n",
    "available_databases = list(map(lambda db: path_folder + db, available_databases))\n",
    "leads = ('I', 'II', 'III', 'aVR', 'aVL', 'aVF', 'V1', 'V2', 'V3', 'V4', 'V5', 'V6')\n",
    "\n",
    "# Databases\n",
    "for path in available_databases[0:1]:\n",
    "  folder = re.search('PhysioNet-CinC21/(.*)', path).group(1)\n",
    "  db = Database(path, leads)\n",
    "  db.load_paths()\n",
    "  db.get_frequency()\n",
    "    \n",
    "  # Diagnostics\n",
    "  for diag in Diagnostic.get_diagnostics():\n",
    "    diag_db = DiagnosticDatabase(diag, db)\n",
    "    \n",
    "    # Recordings\n",
    "    for i, header_path in enumerate(diag_db.db.headers_path):\n",
    "      header = diag_db.db.load_hea_file(i)\n",
    "      labels = diag_db.get_labels(header)\n",
    "      if diag_db.diagnostic.code in labels:\n",
    "        # Get record\n",
    "        rec_file = header_path.replace('hea', 'mat')\n",
    "        recording = loadmat(rec_file)['val']\n",
    "        recording = diag_db.choose_leads(recording, header, diag_db.db.leads)\n",
    "        recording = np.array(recording, dtype=np.float64)\n",
    "        \n",
    "        # Filtering\n",
    "        sos = signal.cheby2(12, 20, [0.35, 70], \n",
    "                            'bandpass', \n",
    "                            fs= diag_db.db.freq, \n",
    "                            output='sos')\n",
    "        for lead in range(0, recording.shape[0]):\n",
    "            to_filt = np.array(recording[lead, :], dtype=np.float64)\n",
    "            filtered = signal.sosfilt(sos, to_filt)\n",
    "            recording[lead, :] = np.array(filtered, dtype=np.float64)\n",
    "\n",
    "        # Resample record to 250Hz\n",
    "        new_freq = 250\n",
    "        time_rec = len(recording[0])/diag_db.db.freq\n",
    "        n_samples = int(time_rec*new_freq)\n",
    "        recording = resample(recording, n_samples, axis=1)\n",
    "\n",
    "        # Cut record in 250 samples\n",
    "        interval = 250\n",
    "        size_rec = recording.shape[1]\n",
    "        samples_rec = math.floor(size_rec/interval)\n",
    "        for i in range(0, samples_rec):\n",
    "          inf = i*interval\n",
    "          sup = ((i+1)*interval)\n",
    "          recording_interval = np.array(list(map(lambda lead: lead[inf:sup], recording)))\n",
    "          record = Record(header_path, \n",
    "                          diag_db.diagnostic.abbrev, \n",
    "                          inf, \n",
    "                          sup, \n",
    "                          recording_interval)\n",
    "          diag_db.recordings_diag.append(record)\n",
    "\n",
    "        diag_db.headers_diag_path.append(header_path)\n",
    "    print(f' - Found {len(diag_db.headers_diag_path)} recordings for {diag_db.diagnostic.abbrev}.')\n",
    "    print(f' - Unattached {len(diag_db.recordings_diag)} intervals.')\n",
    "    DiagnosticDatabase.append_database(diag_db)"
   ]
  },
  {
   "cell_type": "code",
   "execution_count": 261,
   "metadata": {},
   "outputs": [
    {
     "data": {
      "image/png": "[encoded data removed]",
      "text/plain": [
       "<Figure size 1080x144 with 1 Axes>"
      ]
     },
     "metadata": {
      "needs_background": "light"
     },
     "output_type": "display_data"
    },
    {
     "data": {
      "image/png": "[encoded data removed]",
      "text/plain": [
       "<Figure size 1080x144 with 1 Axes>"
      ]
     },
     "metadata": {
      "needs_background": "light"
     },
     "output_type": "display_data"
    }
   ],
   "source": [
    "df = DiagnosticDatabase.get_df_recordings()\n",
    "ecg_plot.plot_1(df.iloc[0].data[0, :]/1000, sample_rate=250, title='')\n",
    "ecg_plot.plot_1(df.iloc[-1].data[0, :]/1000, sample_rate=250, title='')"
   ]
  },
  {
   "cell_type": "markdown",
   "metadata": {
    "id": "ucuJNQHUmvgf"
   },
   "source": [
    "### **Tensor Approach**"
   ]
  },
  {
   "cell_type": "code",
   "execution_count": 8,
   "metadata": {},
   "outputs": [
    {
     "name": "stdout",
     "output_type": "stream",
     "text": [
      "\n",
      "       fval             relfval          relstep          delta        rho\n",
      "       =1/2*norm(F)^2   TolFun = 1e-12   TolX = 1e-06\n",
      "\n",
      "   0:  4.14770217e+09 |\n",
      "   1:  4.11923773e+09 | 6.86270126e-03 | 7.50001117e-02 | 5.0024e+01 | 9.4248e-01\n",
      "   2:  2.49028441e+09 | 3.92736328e-01 | 1.49587543e-01 | 1.0005e+02 | 1.5774e+00\n",
      "\n",
      "Maximum number of iterations reached.\n",
      "\n"
     ]
    }
   ],
   "source": [
    "import ecgBtd1vt\n",
    "from random import randint\n",
    "\n",
    "recording = DiagnosticDatabase.databases[0].recordings_diag[0]\n",
    "recording = recording.tolist()\n",
    "\n",
    "RIn = matlab.double([12.0], size=(1, 1))\n",
    "multirankIn = matlab.double([95.0, 95.0, 1.0], size=(1, 3))\n",
    "recordingIn = matlab.double(recording, size=(12, 250))\n",
    "\n",
    "my_ecgBtd1v = ecgBtd1vt.initialize()\n",
    "sourcesOut = my_ecgBtd1v.BTD(RIn, multirankIn, recordingIn)\n",
    "my_ecgBtd1v.terminate()\n",
    "\n",
    "sources = np.asarray(sourcesOut)\n",
    "ecg_plot.plot(sources, sample_rate=250, title='')\n",
    "ecg_plot.show()"
   ]
  },
  {
   "cell_type": "code",
   "execution_count": 27,
   "metadata": {},
   "outputs": [],
   "source": []
  },
  {
   "cell_type": "code",
   "execution_count": 29,
   "metadata": {},
   "outputs": [
    {
     "data": {
      "image/png": "[encoded data removed]",
      "text/plain": [
       "<Figure size 144x518.4 with 1 Axes>"
      ]
     },
     "metadata": {
      "needs_background": "light"
     },
     "output_type": "display_data"
    }
   ],
   "source": []
  },
  {
   "cell_type": "markdown",
   "metadata": {
    "id": "klg-K-TE0Gmk"
   },
   "source": [
    "# **Convolutional Neural Network**"
   ]
  },
  {
   "cell_type": "markdown",
   "metadata": {
    "id": "S86b6Mu1UhwR"
   },
   "source": [
    "### **Functions**"
   ]
  },
  {
   "cell_type": "code",
   "execution_count": null,
   "metadata": {
    "colab": {
     "base_uri": "https://localhost:8080/"
    },
    "id": "-nfrWUoQyKol",
    "outputId": "70f6d902-a648-4c09-8999-81829e7d0501"
   },
   "outputs": [
    {
     "data": {
      "text/plain": [
       "array([-1.15601735e+01,  5.62337496e+00,  8.13465958e+00,  9.31350538e+00,\n",
       "       -7.53766088e-01, -1.00434437e+01, -5.31681586e+00, -4.64493974e+00,\n",
       "        3.10932563e+00,  2.89484697e+01,  2.96494628e+01,  1.00706495e+01,\n",
       "        1.04183816e+01,  5.23862152e+00,  9.46462941e+00,  3.43264036e+01,\n",
       "        5.01642034e+01,  6.40403250e+01,  6.31629439e+01,  6.88337380e+01,\n",
       "        7.54084220e+01,  7.63736275e+01,  7.72055128e+01,  7.88688547e+01,\n",
       "        6.03730889e+01,  5.69437727e+01,  5.38450894e+01,  5.12658358e+01,\n",
       "        6.95727828e+01,  6.61781696e+01,  6.56166155e+01,  4.94755440e+01,\n",
       "        4.01105689e+01,  4.28384562e+01,  3.36952061e+01,  2.59230500e+01,\n",
       "        1.10925349e+01,  4.70375632e+00,  2.18943899e+01,  2.20674307e+01,\n",
       "        8.71765581e+00, -1.92930793e+00, -1.64547690e+01, -1.97637687e+01,\n",
       "       -6.64927315e+00,  2.40534657e+00, -6.31284651e+00, -1.02470328e+01,\n",
       "       -1.69465404e+01, -3.75740255e+01, -2.08524087e+01, -8.83910678e+00,\n",
       "       -1.20868194e+01, -7.03398556e-01, -6.49626344e+00, -1.48151150e+01,\n",
       "       -1.28354096e+01, -5.44717125e+00, -1.92618226e+01, -2.73649722e+01,\n",
       "       -2.79327753e+01, -3.14531892e+01, -2.93336806e+01, -2.89007532e+01,\n",
       "       -2.48071960e+01, -1.74147785e+01, -1.47768046e+01, -1.35493584e+01,\n",
       "       -2.11279127e+01, -2.18870553e+01, -2.62778659e+01, -2.24659309e+01,\n",
       "       -1.75294216e+01, -2.41779285e+00, -5.96255957e+00, -9.97128345e+00,\n",
       "       -8.72772161e+00, -2.86612730e+01, -1.40000684e+01, -2.06061066e+01,\n",
       "       -1.99256786e+01, -9.74299840e+00, -3.97851370e+00,  7.36401359e-01,\n",
       "       -3.97980816e+00,  6.89744260e+00, -1.71726801e+00, -7.76938506e+00,\n",
       "        7.69673183e+00,  6.89731348e+00, -1.73736041e+00,  1.72637348e+01,\n",
       "        1.80828469e+01,  2.53301645e+00,  5.27385050e+00, -9.16640052e+00,\n",
       "       -1.72082021e+01, -6.87843752e+00,  6.59654538e+00,  2.49853126e-01,\n",
       "       -3.04080700e+00, -8.39422402e+00, -2.44851622e+01, -2.26746960e+01,\n",
       "        1.02682408e+01,  1.20175804e+01,  3.03217932e+00,  9.17745715e+00,\n",
       "        4.04178491e+00,  8.85361045e+00,  4.30639417e+00, -1.40579056e+01,\n",
       "        1.62496869e+00,  2.41519036e+01,  3.34854764e+01,  2.78465469e+01,\n",
       "        4.00693250e+01,  4.24643145e+01,  2.90735764e+01,  3.21852758e+01,\n",
       "        2.72553950e+01,  2.24305671e+01,  1.75853767e+01,  2.77504171e+01,\n",
       "        4.16322459e+01,  3.62422779e+01,  4.28618053e+01,  5.28233327e+01,\n",
       "        4.43578602e+01,  4.98140225e+00, -1.46212113e+01, -1.68668669e+01,\n",
       "       -1.27729537e+01, -8.28167192e+00, -2.28902681e+01, -3.13593005e+01,\n",
       "       -3.52086519e+01, -2.85206506e+01, -1.68044989e+01, -1.82110062e+01,\n",
       "       -3.30969142e+01, -3.62684630e+01, -2.34595395e+01, -1.06080108e+01,\n",
       "       -1.55227035e+01, -2.51824522e+01, -3.85024542e+01, -4.43883790e+01,\n",
       "       -4.47800921e+01, -3.28135046e+01, -3.02670519e+01, -3.59227116e+01,\n",
       "       -3.15144208e+01, -1.94964979e+01,  1.10766422e+00,  4.47661501e+01,\n",
       "        1.15412650e+02,  1.94519523e+02,  2.72960763e+02,  3.21035784e+02,\n",
       "        3.00369845e+02,  2.42695748e+02,  6.32697039e+01, -6.59160763e+01,\n",
       "       -1.42164890e+02, -1.88942034e+02, -1.84044454e+02, -1.66865234e+02,\n",
       "       -1.65975505e+02, -1.52070397e+02, -1.20315142e+02, -1.01537066e+02,\n",
       "       -7.35002048e+01, -5.77121137e+01, -4.18455986e+01, -4.37510912e+01,\n",
       "       -3.95387223e+01, -2.65572200e+01, -4.25340623e+01, -3.38020651e+01,\n",
       "       -3.31677475e+01, -3.73871680e+01, -3.41772926e+01, -3.50549210e+01,\n",
       "       -2.98347496e+01, -2.25421267e+01, -4.21754513e+01, -3.76861482e+01,\n",
       "       -2.57211765e+01, -2.94028101e+01, -2.50270265e+01, -2.00165136e+01,\n",
       "       -2.94120949e+01, -2.43956280e+01, -9.68028109e+00, -1.39504713e+01,\n",
       "       -1.43844461e+01, -1.00011762e+01, -1.89808667e+01, -1.72972395e+01,\n",
       "       -3.19240538e+01, -3.03913244e+01, -1.21170653e+01,  8.06023123e-01,\n",
       "        1.54862896e+01,  1.30405011e+01,  6.82225545e+00,  2.03467644e+01,\n",
       "        1.43447723e+01,  2.38172555e-01,  1.69990881e+01,  4.77695415e+01,\n",
       "        4.78758578e+01,  4.79781301e+01,  3.53542448e+01,  2.77452208e+01,\n",
       "        4.49526561e+01,  5.74067691e+01,  5.66990532e+01,  4.77804269e+01,\n",
       "        4.74241755e+01,  5.66057623e+01,  5.61898699e+01,  7.17468836e+01,\n",
       "        6.73912115e+01,  6.49907612e+01,  5.83352540e+01,  6.22972200e+01,\n",
       "        6.76891722e+01,  5.67900365e+01,  4.39798700e+01,  4.35874177e+01,\n",
       "        2.59198640e+01,  1.68824822e+01,  2.13002790e+01,  7.48782229e+00,\n",
       "        6.93830984e+00,  2.54699135e+01,  1.90594585e+01, -9.64011632e+00,\n",
       "       -1.59377844e+01, -9.91492083e+00, -6.75448425e+00, -1.37435604e+01,\n",
       "       -1.62518172e+01, -2.00182498e+01, -2.27514872e+01, -2.03488529e+01,\n",
       "       -1.34012896e+01, -1.11697542e+01])"
      ]
     },
     "execution_count": 61,
     "metadata": {},
     "output_type": "execute_result"
    }
   ],
   "source": [
    "diag_db.recordings_diag[0][0]"
   ]
  },
  {
   "cell_type": "code",
   "execution_count": null,
   "metadata": {
    "id": "tQG46JTJUeVv"
   },
   "outputs": [],
   "source": [
    "\n",
    "# https://github.com/mbarzegary/ecg-classification-keras-cnn/blob/master/train_keras.py\n",
    "def cnn_2(input_shape):\n",
    "  model = Sequential()\n",
    "  model.add(Conv2D(64, (4, 4), input_shape=input_shape, padding='same', kernel_regularizer=l1_l2(0.0001, 0.0001), activation='relu'))\n",
    "  model.add(BatchNormalization())\n",
    "  model.add(Conv2D(64, (4, 4), kernel_regularizer=l2(0.0001), padding='same', activation='relu'))\n",
    "  model.add(MaxPooling2D((4, 4)))\n",
    "  model.add(Dropout(0.20))\n",
    "  model.add(Conv2D(256, (4, 4), kernel_regularizer=l2(0.0001), padding='same', activation='relu'))\n",
    "  model.add(Conv2D(256, (4, 4), kernel_regularizer=l2(0.0001), padding='same', activation='relu'))\n",
    "  model.add(MaxPooling2D())\n",
    "  model.add(Dropout(0.20))\n",
    "  model.add(Flatten())\n",
    "  model.add(Dense(256, kernel_regularizer=l2(0.0001), activation='relu'))\n",
    "  model.add(Dropout(0.5))\n",
    "  model.add(Dense(2, activation='softmax'))\n",
    "  model.summary()\n",
    "  return model\n",
    "\n",
    "\n",
    "def build_model(model, epochs, batch_size, train_x, test_x, train_y, test_y):\n",
    "  model.compile(loss='categorical_crossentropy', optimizer='adam', metrics=['accuracy'])\n",
    "\n",
    "  callbacks_list = [\n",
    "      keras.callbacks.ModelCheckpoint(\n",
    "          filepath='model.h5',\n",
    "          monitor='val_loss', save_best_only=True, verbose=1),\n",
    "      keras.callbacks.EarlyStopping(monitor='val_loss', patience=10, verbose=1)\n",
    "  ]\n",
    "\n",
    "  return model.fit(X_train, y_train,\n",
    "                   batch_size=batch_size,\n",
    "                   epochs=epochs,\n",
    "                   callbacks = callbacks_list,\n",
    "                   verbose=1,\n",
    "                   validation_data=(X_test, y_test))\n",
    "\n",
    "\n",
    "def plot_results(model):  \n",
    "  fig, ax = plt.subplots(1,2, figsize=(16,8))\n",
    "  ax[0].plot(model.history['loss'], color='b', label=\"Training loss\")\n",
    "  ax[0].plot(model.history['val_loss'], color='r', label=\"validation loss\",axes =ax[0])\n",
    "  legend = ax[0].legend(loc='best', shadow=True)\n",
    "\n",
    "  ax[1].plot(model.history['accuracy'], color='b', label=\"Training accuracy\")\n",
    "  ax[1].plot(model.history['val_accuracy'], color='r',label=\"Validation accuracy\")\n",
    "  legend = ax[1].legend(loc='best', shadow=True)"
   ]
  },
  {
   "cell_type": "markdown",
   "metadata": {
    "id": "FAlBjTXcU7a3"
   },
   "source": [
    "### **Preparing Data**"
   ]
  },
  {
   "cell_type": "code",
   "execution_count": null,
   "metadata": {
    "id": "sLlRlZQyU6d_"
   },
   "outputs": [],
   "source": [
    "X = np.vstack((recordings_AF, recordings_SR))\n",
    "y = np.hstack((np.ones(len(recordings_AF)).T, np.zeros(len(recordings_SR)).T))\n",
    "y = keras.utils.to_categorical(y, 2)\n",
    "X_train, X_test, y_train, y_test = train_test_split(X, y, test_size=0.33, random_state=42)\n",
    "X_train = X_train.reshape([*X_train.shape[0:3], 1])\n",
    "X_test = X_test.reshape([*X_test.shape[0:3], 1])"
   ]
  },
  {
   "cell_type": "markdown",
   "metadata": {
    "id": "UMfkv7lrUwx4"
   },
   "source": [
    "### **Classifier**"
   ]
  },
  {
   "cell_type": "code",
   "execution_count": null,
   "metadata": {
    "id": "CSlgtpFnQubp"
   },
   "outputs": [],
   "source": [
    "net = cnn_2(X_train.shape[1:])\n",
    "# net = cnn_2()\n",
    "batch_size = 124\n",
    "epochs = 10\n",
    "model = build_model(net, epochs, batch_size, X_train, y_train, X_test, y_test)\n",
    "plot_results(model)"
   ]
  },
  {
   "cell_type": "markdown",
   "metadata": {
    "id": "4zRa4l4cqJQq"
   },
   "source": [
    "### **Load Model**"
   ]
  },
  {
   "cell_type": "markdown",
   "metadata": {
    "id": "wUdSmROTE2pV"
   },
   "source": [
    "Model1 - 09-01\n",
    " - WFDB_CPSC2018\n",
    " - Train (21722, 12, 500)\n",
    " - Test (10700, 12, 500)\n",
    " - CNN_2\n",
    " - Epochs 10, Batch Size 124\n",
    " - ~ 10h"
   ]
  },
  {
   "cell_type": "code",
   "execution_count": null,
   "metadata": {
    "id": "9IYAo5DIExh2"
   },
   "outputs": [],
   "source": [
    "loaded_model = load_model('/content/gdrive/MyDrive/Pesquisa Mestrado/Parte II (Novembro-)/Databases/Models/Model1.h5')\n",
    "loaded_model.compile(loss='categorical_crossentropy', optimizer='adam', metrics=['accuracy'])\n",
    "score = loaded_model.evaluate(X_test, y_test, verbose=0)\n",
    "print (\"%s: %.2f%%\" % (loaded_model.metrics_names[1], score[1]*100))"
   ]
  }
 ],
 "metadata": {
  "colab": {
   "collapsed_sections": [],
   "name": "Experiments.ipynb",
   "provenance": []
  },
  "kernelspec": {
   "display_name": "Python 3.7",
   "language": "python",
   "name": "py37"
  },
  "language_info": {
   "codemirror_mode": {
    "name": "ipython",
    "version": 3
   },
   "file_extension": ".py",
   "mimetype": "text/x-python",
   "name": "python",
   "nbconvert_exporter": "python",
   "pygments_lexer": "ipython3",
   "version": "3.7.12"
  }
 },
 "nbformat": 4,
 "nbformat_minor": 1
}
